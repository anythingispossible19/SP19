{
  "nbformat": 4,
  "nbformat_minor": 0,
  "metadata": {
    "colab": {
      "name": "Untitled16.ipynb",
      "provenance": [],
      "authorship_tag": "ABX9TyOPkcxroUTNaoqwLw4QLA+W",
      "include_colab_link": true
    },
    "kernelspec": {
      "name": "python3",
      "display_name": "Python 3"
    }
  },
  "cells": [
    {
      "cell_type": "markdown",
      "metadata": {
        "id": "view-in-github",
        "colab_type": "text"
      },
      "source": [
        "<a href=\"https://colab.research.google.com/github/anythingispossible19/SP19/blob/master/Question2_exercise_sheet2_27_09_2020.ipynb\" target=\"_parent\"><img src=\"https://colab.research.google.com/assets/colab-badge.svg\" alt=\"Open In Colab\"/></a>"
      ]
    },
    {
      "cell_type": "markdown",
      "metadata": {
        "id": "MK-9gesefypt"
      },
      "source": [
        "Now write a procedure that takes a list as an input and reverses its contents. So, the procedure should not return anything, and the inputted list should be modified. Of course, you still must not use inbuilt Python features which reverse lists."
      ]
    },
    {
      "cell_type": "code",
      "metadata": {
        "id": "MuRrA5wX80g3"
      },
      "source": [
        "def reverse_list(in_list):\n",
        "\n",
        "  "
      ],
      "execution_count": null,
      "outputs": []
    },
    {
      "cell_type": "code",
      "metadata": {
        "id": "blqgO8Qsf8XF"
      },
      "source": [
        "test_in = [1, 2]\n",
        "reverse_list(test_in)\n",
        "assert(test_in == [2, 1])"
      ],
      "execution_count": null,
      "outputs": []
    }
  ]
}