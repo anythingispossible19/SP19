{
  "nbformat": 4,
  "nbformat_minor": 0,
  "metadata": {
    "colab": {
      "name": "Untitled13.ipynb",
      "provenance": [],
      "authorship_tag": "ABX9TyOh2r28/fr9pZBkhAKVE2jK",
      "include_colab_link": true
    },
    "kernelspec": {
      "name": "python3",
      "display_name": "Python 3"
    }
  },
  "cells": [
    {
      "cell_type": "markdown",
      "metadata": {
        "id": "view-in-github",
        "colab_type": "text"
      },
      "source": [
        "<a href=\"https://colab.research.google.com/github/anythingispossible19/SP19/blob/master/question1_exercise_sheet2.ipynb\" target=\"_parent\"><img src=\"https://colab.research.google.com/assets/colab-badge.svg\" alt=\"Open In Colab\"/></a>"
      ]
    },
    {
      "cell_type": "code",
      "metadata": {
        "id": "ZKxFVemcYYXD"
      },
      "source": [
        "def reversed_list(in_list):\n",
        "    s1 = in_list\n",
        "    return s1 \n",
        "\n",
        "#     raise NotImplementedError()\n",
        "# reversed_list([1, 2])"
      ],
      "execution_count": null,
      "outputs": []
    },
    {
      "cell_type": "code",
      "metadata": {
        "id": "GpBO-gWJf0_C",
        "outputId": "8ab5885a-9996-4c15-9b8b-cd2e60f094f0",
        "colab": {
          "base_uri": "https://localhost:8080/",
          "height": 34
        }
      },
      "source": [
        "# def reversed_list(in_list):\n",
        "in_list = ['1', '2', '3', '4']\n",
        "in_list = in_list[::-1]\n",
        "print(in_list)"
      ],
      "execution_count": null,
      "outputs": [
        {
          "output_type": "stream",
          "text": [
            "['4', '3', '2', '1']\n"
          ],
          "name": "stdout"
        }
      ]
    },
    {
      "cell_type": "code",
      "metadata": {
        "id": "P-8fzY-E0wP6",
        "outputId": "ef9198e8-32e7-41f6-c64e-1276dbdf8fdf",
        "colab": {
          "base_uri": "https://localhost:8080/",
          "height": 34
        }
      },
      "source": [
        "def reversed_list(in_list):\n",
        "  in_list = ['1', '2', '3', '4']\n",
        "  in_list = in_list[::-1]\n",
        "  return in_list\n",
        "reversed_list(in_list)"
      ],
      "execution_count": 13,
      "outputs": [
        {
          "output_type": "execute_result",
          "data": {
            "text/plain": [
              "['4', '3', '2', '1']"
            ]
          },
          "metadata": {
            "tags": []
          },
          "execution_count": 13
        }
      ]
    },
    {
      "cell_type": "code",
      "metadata": {
        "id": "8Rz20khr4sQd",
        "outputId": "3c085ba6-9915-41ac-f399-c852235c6b4f",
        "colab": {
          "base_uri": "https://localhost:8080/",
          "height": 34
        }
      },
      "source": [
        "def reversed_list(in_list):\n",
        "    in_list = in_list[::-1]\n",
        "    return in_list\n",
        "\n",
        "    raise NotImplementedError()\n",
        "reversed_list([1, 2, 3])"
      ],
      "execution_count": 16,
      "outputs": [
        {
          "output_type": "execute_result",
          "data": {
            "text/plain": [
              "[3, 2, 1]"
            ]
          },
          "metadata": {
            "tags": []
          },
          "execution_count": 16
        }
      ]
    },
    {
      "cell_type": "code",
      "metadata": {
        "id": "Uu2csVoAzqoG",
        "outputId": "1a1c9109-3cff-4a1b-92b7-d8d140d917ef",
        "colab": {
          "base_uri": "https://localhost:8080/",
          "height": 130
        }
      },
      "source": [
        "[17:00, 25/09/2020] Haidie: #Test 2:\n",
        "x = ['Adam', 'is', 'a', 'student', 'at', 'Bath'] \n",
        "rev_list(x)"
      ],
      "execution_count": null,
      "outputs": [
        {
          "output_type": "error",
          "ename": "SyntaxError",
          "evalue": "ignored",
          "traceback": [
            "\u001b[0;36m  File \u001b[0;32m\"<ipython-input-11-c2c260edd0be>\"\u001b[0;36m, line \u001b[0;32m5\u001b[0m\n\u001b[0;31m    return s\u001b[0m\n\u001b[0m            ^\u001b[0m\n\u001b[0;31mSyntaxError\u001b[0m\u001b[0;31m:\u001b[0m 'return' outside function\n"
          ]
        }
      ]
    },
    {
      "cell_type": "code",
      "metadata": {
        "id": "5zLOrlHJ0MOQ"
      },
      "source": [
        "def rev_list(lst):\n",
        "  r_lst=lst[::-1]\n",
        "  return r_lst"
      ],
      "execution_count": null,
      "outputs": []
    },
    {
      "cell_type": "code",
      "metadata": {
        "id": "ylvR0MiR0NeG",
        "outputId": "d82f7122-77d2-4b40-c875-e06b3ecf8f29",
        "colab": {
          "base_uri": "https://localhost:8080/",
          "height": 34
        }
      },
      "source": [
        "x = [11, 27, -1, -5, 4, 3] \n",
        "rev_list(x)"
      ],
      "execution_count": null,
      "outputs": [
        {
          "output_type": "execute_result",
          "data": {
            "text/plain": [
              "[3, 4, -5, -1, 27, 11]"
            ]
          },
          "metadata": {
            "tags": []
          },
          "execution_count": 10
        }
      ]
    },
    {
      "cell_type": "code",
      "metadata": {
        "id": "3SmFlpyi0iQb",
        "outputId": "399f76cc-ed6b-4741-d83e-6a6379305ee3",
        "colab": {
          "base_uri": "https://localhost:8080/",
          "height": 34
        }
      },
      "source": [
        "x = ['Adam', 'is', 'a', 'student', 'at', 'Bath'] \n",
        "rev_list(x)"
      ],
      "execution_count": null,
      "outputs": [
        {
          "output_type": "execute_result",
          "data": {
            "text/plain": [
              "['Bath', 'at', 'student', 'a', 'is', 'Adam']"
            ]
          },
          "metadata": {
            "tags": []
          },
          "execution_count": 9
        }
      ]
    }
  ]
}