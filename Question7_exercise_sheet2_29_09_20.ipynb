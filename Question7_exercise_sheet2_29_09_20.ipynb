{
  "nbformat": 4,
  "nbformat_minor": 0,
  "metadata": {
    "colab": {
      "name": "Untitled22.ipynb",
      "provenance": [],
      "authorship_tag": "ABX9TyOg3Tg/C67CiOq64/STMuQW",
      "include_colab_link": true
    },
    "kernelspec": {
      "name": "python3",
      "display_name": "Python 3"
    }
  },
  "cells": [
    {
      "cell_type": "markdown",
      "metadata": {
        "id": "view-in-github",
        "colab_type": "text"
      },
      "source": [
        "<a href=\"https://colab.research.google.com/github/anythingispossible19/SP19/blob/master/Question7_exercise_sheet2_29_09_20.ipynb\" target=\"_parent\"><img src=\"https://colab.research.google.com/assets/colab-badge.svg\" alt=\"Open In Colab\"/></a>"
      ]
    },
    {
      "cell_type": "markdown",
      "metadata": {
        "id": "QAPpuLiiNtMI"
      },
      "source": [
        "Write a function which takes a string as an input and returns a dictionary which maps from each letter a-z (the keys), ignoring case, to the number of times this letter appears in the string (the values), if the letter appears in the string (all counts should be  ≥1\n",
        "≥\n",
        "1\n",
        " ). The keys to the dictionary must all be lower case. Ignore all punctuation or whitespace."
      ]
    },
    {
      "cell_type": "code",
      "metadata": {
        "id": "uc6JBtoqNslF"
      },
      "source": [
        "def frequency_analysis(string):\n",
        "    # YOUR CODE HERE"
      ],
      "execution_count": null,
      "outputs": []
    },
    {
      "cell_type": "code",
      "metadata": {
        "id": "BqeGtj8UN2x0"
      },
      "source": [
        "assert(frequency_analysis(\"Hello world!\") == {'h': 1, 'e': 1, 'l': 3, 'o': 2, 'w': 1, 'r': 1, 'd': 1})"
      ],
      "execution_count": null,
      "outputs": []
    },
    {
      "cell_type": "code",
      "metadata": {
        "id": "Hy57e605Pq0O"
      },
      "source": [
        "def longest_value(dictionary):\n",
        "    longest = -1\n",
        "    long_key = \"\"\n",
        "    for key in dictionary:\n",
        "        if len(dictionary[key]) > longest:\n",
        "            longest = len(dictionary[key])\n",
        "            long_key = key\n",
        "    return long_key"
      ],
      "execution_count": 1,
      "outputs": []
    },
    {
      "cell_type": "markdown",
      "metadata": {
        "id": "Y1SAFI-yPyca"
      },
      "source": [
        "Given a dictionary, return the key of the element whose value has the longest result for the function len.\n",
        "\n",
        "The dictionary will only contain values which support the len function. So it could include strings, tuples, lists, a mix of these, and so on. Only a single element will have the longest value."
      ]
    }
  ]
}