{
  "nbformat": 4,
  "nbformat_minor": 0,
  "metadata": {
    "colab": {
      "name": "Untitled23.ipynb",
      "provenance": [],
      "authorship_tag": "ABX9TyPbXUxUgSy23xynBhHeufvs",
      "include_colab_link": true
    },
    "kernelspec": {
      "name": "python3",
      "display_name": "Python 3"
    }
  },
  "cells": [
    {
      "cell_type": "markdown",
      "metadata": {
        "id": "view-in-github",
        "colab_type": "text"
      },
      "source": [
        "<a href=\"https://colab.research.google.com/github/anythingispossible19/SP19/blob/master/Question9_exercise_sheet2_29_09_20.ipynb\" target=\"_parent\"><img src=\"https://colab.research.google.com/assets/colab-badge.svg\" alt=\"Open In Colab\"/></a>"
      ]
    },
    {
      "cell_type": "code",
      "metadata": {
        "id": "jmu2nfohFKPH"
      },
      "source": [
        "def prime(r):\n",
        "    n = range(2,r)\n",
        "    while len(n)>0:\n",
        "        yield n[0]\n",
        "        n = [x for x in n if x not in range(n[0],r,n[0])]\n",
        "\n",
        "print(list(prime(r)))"
      ],
      "execution_count": null,
      "outputs": []
    },
    {
      "cell_type": "markdown",
      "metadata": {
        "id": "omEEGJy0FVZ-"
      },
      "source": [
        "In this question you will implement the sieve of Eratosthenes, a method for finding prime numbers. A prime number is any integer which is divisible by exactly two numbers:  1\n",
        "1\n",
        "  and itself. The basic idea is that you start with a list (or equivalent) of all the numbers from  2\n",
        "2\n",
        "  to  𝑁\n",
        "N\n",
        " , then you repeat the following two steps:\n",
        "\n",
        "remove the first element from the list, this is your next prime number, call it  𝑝\n",
        "p\n",
        " \n",
        "remove every element from the rest of the which is a multiple of  𝑝\n",
        "p\n",
        " \n",
        "By repeating these steps you fill find every prime number up to  𝑁\n",
        "N\n",
        " . There are various optimisations you can perform, but this basic idea is sufficient for this exercise.\n",
        "\n",
        "For this question, write a function which takes a single integer n and returns a set containing all of the prime numbers up to and including n."
      ]
    },
    {
      "cell_type": "code",
      "metadata": {
        "id": "xSrDI4I-FZep",
        "outputId": "3bf8958a-484c-4d0b-ce4e-6e243054fb20",
        "colab": {
          "base_uri": "https://localhost:8080/",
          "height": 85
        }
      },
      "source": [
        "def sieve(n):\n",
        "  multiples = []\n",
        "  for i in range(2, n+1):\n",
        "        if i not in multiples:\n",
        "            print (i)\n",
        "            for j in range(i*i, n+1, i):\n",
        "                multiples.append(j)\n",
        "sieve(10)\n"
      ],
      "execution_count": 9,
      "outputs": [
        {
          "output_type": "stream",
          "text": [
            "2\n",
            "3\n",
            "5\n",
            "7\n"
          ],
          "name": "stdout"
        }
      ]
    },
    {
      "cell_type": "code",
      "metadata": {
        "id": "2Uk8ksjiFcjv"
      },
      "source": [
        "assert(sieve(10) == {2, 3, 5, 7})"
      ],
      "execution_count": null,
      "outputs": []
    },
    {
      "cell_type": "code",
      "metadata": {
        "id": "4dWP3yAeLNcJ"
      },
      "source": [
        "def eratosthenes(n):\n",
        "    multiples = []\n",
        "    for i in range(2, n+1):\n",
        "        if i not in multiples:\n",
        "            print (i)\n",
        "            for j in range(i*i, n+1, i):\n",
        "                multiples.append(j)\n",
        "\n",
        "eratosthenes(100)"
      ],
      "execution_count": null,
      "outputs": []
    },
    {
      "cell_type": "code",
      "metadata": {
        "id": "3pIz-59SLahG"
      },
      "source": [
        ""
      ],
      "execution_count": null,
      "outputs": []
    }
  ]
}