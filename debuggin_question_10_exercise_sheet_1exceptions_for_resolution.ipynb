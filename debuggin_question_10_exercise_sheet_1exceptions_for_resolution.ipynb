{
  "nbformat": 4,
  "nbformat_minor": 0,
  "metadata": {
    "kernelspec": {
      "display_name": "Python 3",
      "language": "python",
      "name": "python3"
    },
    "language_info": {
      "codemirror_mode": {
        "name": "ipython",
        "version": 3
      },
      "file_extension": ".py",
      "mimetype": "text/x-python",
      "name": "python",
      "nbconvert_exporter": "python",
      "pygments_lexer": "ipython3",
      "version": "3.8.3"
    },
    "colab": {
      "name": "exercise-sheet-1 - q10 exceptions for resolution.ipynb",
      "provenance": [],
      "include_colab_link": true
    }
  },
  "cells": [
    {
      "cell_type": "markdown",
      "metadata": {
        "id": "view-in-github",
        "colab_type": "text"
      },
      "source": [
        "<a href=\"https://colab.research.google.com/github/anythingispossible19/SP19/blob/master/debuggin_question_10_exercise_sheet_1exceptions_for_resolution.ipynb\" target=\"_parent\"><img src=\"https://colab.research.google.com/assets/colab-badge.svg\" alt=\"Open In Colab\"/></a>"
      ]
    },
    {
      "cell_type": "markdown",
      "metadata": {
        "deletable": false,
        "editable": false,
        "nbgrader": {
          "cell_type": "markdown",
          "checksum": "673580ed1b5e782c5d5745ca40dca50f",
          "grade": false,
          "grade_id": "cell-2b65f2795aaaa2b9",
          "locked": true,
          "schema_version": 3,
          "solution": false,
          "task": false
        },
        "id": "iIpsPkJJeNDr"
      },
      "source": [
        "# Exercise Sheet 1\n",
        "## Instructions\n",
        "This exercise sheet counts towards your overall grade for the unit. Please refer to Engage for the most up-to-date administrative details on grading and deadlines.\n",
        "\n",
        "Each exercise sheet will be made up of several programming challenges in Python. The content of the exercises will primarily focus on the material from the relevant week, but concepts from previous weeks will also be required, and you may even need to pick up new concepts that are introduced within the exercise itself – this is a normal part of programming.\n",
        "\n",
        "Each exercise is spread across three Jupyter notebook cells:\n",
        "* A text cell (like this one) introducing the exercise\n",
        "* A code cell where you can fill your solution, which may include some code already pre-filled for you to modify\n",
        "* A code cell containing tests\n",
        "\n",
        "Each test cell will normally include visible tests that you must run yourself to check your submission is working and in the format we expect. If you can run the cell and *nothing* happens, the tests are passing. These tests are mandatory, and do not typically include challenging test cases. If your submission does not pass these tests then it may receive zero marks for the exercise. \n",
        "\n",
        "The test cell also contains hidden tests, and these will be used to actually determine your grade for the exercise. So you **must** also test your code on additional inputs that you determine yourself. This is part of writing code, you need to check that it works. \n",
        "\n",
        "Unless otherwise specified, you *do not* need to ensure that your code is robust for unusual inputs. If the exercise states that the input will be a number, you can expect the input to be a number, you do not need to check if it is a string.\n",
        "\n",
        "You can test your code in the middle code cell or add additional cells to the notebook, but *please delete these before your final submission*, which should just be the exercise code itself.\n",
        "\n",
        "In general, unless the exercise instructions state otherwise, you can feel free to modify any skeleton code that has been provided *provided* the test cell still runs successfully."
      ]
    },
    {
      "cell_type": "markdown",
      "metadata": {
        "deletable": false,
        "editable": false,
        "nbgrader": {
          "cell_type": "markdown",
          "checksum": "bb30b62b206ff0315100c033b1ef7049",
          "grade": false,
          "grade_id": "cell-340b37bc49d865d9",
          "locked": true,
          "schema_version": 3,
          "solution": false,
          "task": false
        },
        "id": "6opMVRc7eNDs"
      },
      "source": [
        "## Questions\n",
        "### Question 1\n",
        "Write a function that takes a single number, adds 3 to that number, then multiplies the result by 2, then subtracts 4, then subtracts twice the original number, then adds 3, and returns the result."
      ]
    },
    {
      "cell_type": "code",
      "metadata": {
        "deletable": false,
        "nbgrader": {
          "cell_type": "code",
          "checksum": "8e826dadf56c19c015c689be02a43777",
          "grade": false,
          "grade_id": "cell-8ec771280bdacf20",
          "locked": false,
          "schema_version": 3,
          "solution": true,
          "task": false
        },
        "id": "ZnX7ylFheNDt"
      },
      "source": [
        "def process_number(x):\n",
        "    \n",
        "    \n",
        "    raise NotImplementedError()"
      ],
      "execution_count": null,
      "outputs": []
    },
    {
      "cell_type": "code",
      "metadata": {
        "deletable": false,
        "editable": false,
        "nbgrader": {
          "cell_type": "code",
          "checksum": "2f02ff53bc3f7bb695e48b67525b0089",
          "grade": true,
          "grade_id": "cell-37523cf9c5e087d0",
          "locked": true,
          "points": 10,
          "schema_version": 3,
          "solution": false,
          "task": false
        },
        "id": "QiZkjwameNDy"
      },
      "source": [
        "# This is a test cell, if it runs without errors then your code is in the correct format for submission\n",
        "# but you must still perform your own testing to ensure you are happy your answer is correct.\n",
        "assert(process_number(5) == 5)"
      ],
      "execution_count": null,
      "outputs": []
    },
    {
      "cell_type": "markdown",
      "metadata": {
        "deletable": false,
        "editable": false,
        "nbgrader": {
          "cell_type": "markdown",
          "checksum": "2460a375610062bb9b1f905ff6aefeba",
          "grade": false,
          "grade_id": "cell-5ce9eaef5e997bbd",
          "locked": true,
          "schema_version": 3,
          "solution": false,
          "task": false
        },
        "id": "NzQMGBcheND2"
      },
      "source": [
        "### Question 2\n",
        "Write a function which converts a length given in centimetres to feet. You will likely need to look up the formula for this conversion online, try to be as exact as possible!"
      ]
    },
    {
      "cell_type": "code",
      "metadata": {
        "deletable": false,
        "nbgrader": {
          "cell_type": "code",
          "checksum": "ab42c92deb273dc82b1babbd76ed2248",
          "grade": false,
          "grade_id": "cell-62ec441834039e8b",
          "locked": false,
          "schema_version": 3,
          "solution": true,
          "task": false
        },
        "id": "zmPBtOv4eND2"
      },
      "source": [
        "def centimetres_to_feet(cm):\n",
        "    # YOUR CODE HERE\n",
        "    raise NotImplementedError()"
      ],
      "execution_count": null,
      "outputs": []
    },
    {
      "cell_type": "code",
      "metadata": {
        "deletable": false,
        "editable": false,
        "nbgrader": {
          "cell_type": "code",
          "checksum": "d943bb959469f29bf9d10084bc44dd70",
          "grade": true,
          "grade_id": "cell-8d322b244bce8acb",
          "locked": true,
          "points": 10,
          "schema_version": 3,
          "solution": false,
          "task": false
        },
        "id": "dRV6PztTeND5"
      },
      "source": [
        "assert(centimetres_to_feet(0) == 0)"
      ],
      "execution_count": null,
      "outputs": []
    },
    {
      "cell_type": "markdown",
      "metadata": {
        "deletable": false,
        "editable": false,
        "nbgrader": {
          "cell_type": "markdown",
          "checksum": "992a1171db233e6397bac8a5615dfaa8",
          "grade": false,
          "grade_id": "cell-6d5c71aa74b53bca",
          "locked": true,
          "schema_version": 3,
          "solution": false,
          "task": false
        },
        "id": "S4CB5stmeND8"
      },
      "source": [
        "### Question 3\n",
        "Write a function that takes two integers `x` and `y`. It should return a string containing the integer `x` repeated `y` times. See the provided tests below for examples."
      ]
    },
    {
      "cell_type": "code",
      "metadata": {
        "deletable": false,
        "nbgrader": {
          "cell_type": "code",
          "checksum": "4d29d0a0cde01f66b970eecb1af43fff",
          "grade": false,
          "grade_id": "cell-a80faf28af2fff25",
          "locked": false,
          "schema_version": 3,
          "solution": true,
          "task": false
        },
        "id": "Rq6WR1VEeND8"
      },
      "source": [
        "def repeat_int_str(x, y):\n",
        "    # YOUR CODE HERE\n",
        "    raise NotImplementedError()"
      ],
      "execution_count": null,
      "outputs": []
    },
    {
      "cell_type": "code",
      "metadata": {
        "deletable": false,
        "editable": false,
        "nbgrader": {
          "cell_type": "code",
          "checksum": "f2ae28cac3529d595430dbcc6f823128",
          "grade": true,
          "grade_id": "cell-abad8e6be2aa33b3",
          "locked": true,
          "points": 10,
          "schema_version": 3,
          "solution": false,
          "task": false
        },
        "id": "Ui5C8Z51eND_"
      },
      "source": [
        "assert(repeat_int_str(0, 4) == \"0000\")\n",
        "assert(repeat_int_str(-5, 3) == \"-5-5-5\")"
      ],
      "execution_count": null,
      "outputs": []
    },
    {
      "cell_type": "markdown",
      "metadata": {
        "deletable": false,
        "editable": false,
        "nbgrader": {
          "cell_type": "markdown",
          "checksum": "9d62f6f6c686e718188a402261817990",
          "grade": false,
          "grade_id": "cell-0895d49e22f7449c",
          "locked": true,
          "schema_version": 3,
          "solution": false,
          "task": false
        },
        "id": "OY87cNQFeNEB"
      },
      "source": [
        "### Question 4\n",
        "Now write a function similar to the one above, that takes two integers `x` and `y`, but this time produces a string *of length* `y` made up of repeated copies of `x`."
      ]
    },
    {
      "cell_type": "code",
      "metadata": {
        "deletable": false,
        "nbgrader": {
          "cell_type": "code",
          "checksum": "a46ef0dfce9c5a50be8c9be323aaa717",
          "grade": false,
          "grade_id": "cell-9ce26ef0a58e99bb",
          "locked": false,
          "schema_version": 3,
          "solution": true,
          "task": false
        },
        "id": "DtyC5hTgeNEC"
      },
      "source": [
        "def repeat_int_length(x, y):\n",
        "    # YOUR CODE HERE\n",
        "    raise NotImplementedError()"
      ],
      "execution_count": null,
      "outputs": []
    },
    {
      "cell_type": "code",
      "metadata": {
        "deletable": false,
        "editable": false,
        "nbgrader": {
          "cell_type": "code",
          "checksum": "73972e174299e066853d2f9a3fe9e115",
          "grade": true,
          "grade_id": "cell-b0c00ceb2ed4ab1b",
          "locked": true,
          "points": 10,
          "schema_version": 3,
          "solution": false,
          "task": false
        },
        "id": "qt7g8TiHeNEE"
      },
      "source": [
        "assert(repeat_int_length(10, 4) == \"1010\")\n",
        "assert(repeat_int_length(-5, 3) == \"-5-\")"
      ],
      "execution_count": null,
      "outputs": []
    },
    {
      "cell_type": "markdown",
      "metadata": {
        "deletable": false,
        "editable": false,
        "nbgrader": {
          "cell_type": "markdown",
          "checksum": "fcccf9f8ae58af8d0324f2af44a30412",
          "grade": false,
          "grade_id": "cell-600195195d67239a",
          "locked": true,
          "schema_version": 3,
          "solution": false,
          "task": false
        },
        "id": "WePCY2adeNEG"
      },
      "source": [
        "### Question 5\n",
        "One more time, write another function which takes arguments `x` and `y`, and produces a string of length `y` made of repeated copies of `x`, ***but*** this time, if `x` is negative do not repeat the negative sign, only the digits. Again, see the examples in the tests below for clarification."
      ]
    },
    {
      "cell_type": "code",
      "metadata": {
        "deletable": false,
        "nbgrader": {
          "cell_type": "code",
          "checksum": "f9d8e69b9c59542b1677cfe173a22445",
          "grade": false,
          "grade_id": "cell-ece9e5b5e185e772",
          "locked": false,
          "schema_version": 3,
          "solution": true,
          "task": false
        },
        "id": "9Gs3Vgq4eNEG"
      },
      "source": [
        "def repeat_int_no_minus(x, y):\n",
        "    # YOUR CODE HERE\n",
        "    raise NotImplementedError()"
      ],
      "execution_count": null,
      "outputs": []
    },
    {
      "cell_type": "code",
      "metadata": {
        "deletable": false,
        "editable": false,
        "nbgrader": {
          "cell_type": "code",
          "checksum": "7fbf4d2e6e30847e4f3d4ffaba3ba48b",
          "grade": true,
          "grade_id": "cell-7ba13193fa2aeee2",
          "locked": true,
          "points": 10,
          "schema_version": 3,
          "solution": false,
          "task": false
        },
        "id": "ck79fcrmeNEI"
      },
      "source": [
        "assert(repeat_int_no_minus(-5, 5) == \"-5555\")\n",
        "assert(repeat_int_no_minus(-343, 3) == \"-34\")"
      ],
      "execution_count": null,
      "outputs": []
    },
    {
      "cell_type": "markdown",
      "metadata": {
        "deletable": false,
        "editable": false,
        "nbgrader": {
          "cell_type": "markdown",
          "checksum": "50779882d6eb936fbc74a45558928fe4",
          "grade": false,
          "grade_id": "cell-104b9efeda5a3294",
          "locked": true,
          "schema_version": 3,
          "solution": false,
          "task": false
        },
        "id": "FVLkytASeNEJ"
      },
      "source": [
        "### Question 6\n",
        "Remember that strings can be compared using `<` and `>`. If you are comparing characters that are the same case (both UPPER CASE or both lower case), then `<` and `>` will compare the characters alphabetically. So `\"a\" < \"z\"` evaluates to `True`. \n",
        "\n",
        "Write a function that takes an input string all in lower case and finds the smallest (alphabetically first) *letter* from (a-z). Importantly, note that some special characters (like spaces) might be considered “smaller” and so must be ignored, i.e. `\" \" < \"a\"` evaluates to `True`. If the input string contains no lower case letters from a-z, return an empty string."
      ]
    },
    {
      "cell_type": "code",
      "metadata": {
        "deletable": false,
        "nbgrader": {
          "cell_type": "code",
          "checksum": "b4614b88da2f2468f33045f6c552f2d8",
          "grade": false,
          "grade_id": "cell-62b319d167ceab6f",
          "locked": false,
          "schema_version": 3,
          "solution": true,
          "task": false
        },
        "id": "xyAlJsB-eNEJ"
      },
      "source": [
        "def smallest_letter(string):\n",
        "    # YOUR CODE HERE\n",
        "    raise NotImplementedError()"
      ],
      "execution_count": null,
      "outputs": []
    },
    {
      "cell_type": "code",
      "metadata": {
        "deletable": false,
        "editable": false,
        "nbgrader": {
          "cell_type": "code",
          "checksum": "80eb2d59631243a3b2ea9fdc537bbc66",
          "grade": true,
          "grade_id": "cell-48d46b3c2804273d",
          "locked": true,
          "points": 10,
          "schema_version": 3,
          "solution": false,
          "task": false
        },
        "id": "uyjTnucVeNEL"
      },
      "source": [
        "assert(smallest_letter(\"hello world\") == \"d\")\n",
        "assert(smallest_letter(\" \") == \"\")"
      ],
      "execution_count": null,
      "outputs": []
    },
    {
      "cell_type": "markdown",
      "metadata": {
        "deletable": false,
        "editable": false,
        "nbgrader": {
          "cell_type": "markdown",
          "checksum": "211dee4476b88df54935a69698700e63",
          "grade": false,
          "grade_id": "cell-958dc7ed10e138d9",
          "locked": true,
          "schema_version": 3,
          "solution": false,
          "task": false
        },
        "id": "lnVJLoWZeNEN"
      },
      "source": [
        "### Question 7\n",
        "The reason why we can compare strings alphabetically using `<` and `>`, but only for characters of the same case, is because it is *actually* comparing the [character values](https://en.wikipedia.org/wiki/List_of_Unicode_characters#Latin_script). Python uses Unicode for its characters, but you might also hear people refer to ASCII character values too, since Unicode is backwards compatible and uses the same values for basic Latin script, numerals, and the symbols you find on a UK keyboard.\n",
        "\n",
        "You can convert a single-character string into its character value using the inbuilt function `ord`, and you can convert back from a number into a single-character string using `chr`. So `ord(\"A\") == 65` and `chr(65) == \"A\"`. Since each character's value is sequential (A is 65, B is 66, …), if you think about it, you can use these functions to convert between cases. You can also use string methods like `.lower()` and `.upper()`.\n",
        "\n",
        "Now, armed with this new information, write a function which works the same as the previous question except it produces the smallest alphabetical letter *of either case*. If the string contains an upper and lower case character which is alphabetically first, return the value of the character which occurs first in the string. The case of the return value must match the input. See the tests for clarifying examples."
      ]
    },
    {
      "cell_type": "code",
      "metadata": {
        "deletable": false,
        "nbgrader": {
          "cell_type": "code",
          "checksum": "b17fdb0d735c0535d2819f0aa10e70e9",
          "grade": false,
          "grade_id": "cell-b1729d6895302bf6",
          "locked": false,
          "schema_version": 3,
          "solution": true,
          "task": false
        },
        "id": "WeT4sj45eNEN"
      },
      "source": [
        "def smallest_ignore_case(string):\n",
        "    # YOUR CODE HERE\n",
        "    raise NotImplementedError()"
      ],
      "execution_count": null,
      "outputs": []
    },
    {
      "cell_type": "code",
      "metadata": {
        "deletable": false,
        "editable": false,
        "nbgrader": {
          "cell_type": "code",
          "checksum": "4eb6eacc1e139c7943dce8e01e659ca6",
          "grade": true,
          "grade_id": "cell-96eff72adde04801",
          "locked": true,
          "points": 10,
          "schema_version": 3,
          "solution": false,
          "task": false
        },
        "id": "Le8TKPzVeNEO"
      },
      "source": [
        "assert(smallest_ignore_case(\"Hello World\") == \"d\")\n",
        "assert(smallest_ignore_case(\"HeLLo WorLD\") == \"D\")\n",
        "assert(smallest_ignore_case(\"What an AARDVARK!\") == \"a\")"
      ],
      "execution_count": null,
      "outputs": []
    },
    {
      "cell_type": "markdown",
      "metadata": {
        "deletable": false,
        "editable": false,
        "nbgrader": {
          "cell_type": "markdown",
          "checksum": "d12d8e086e4e0b11aee1aa07d91afb13",
          "grade": false,
          "grade_id": "cell-865289505758576c",
          "locked": true,
          "schema_version": 3,
          "solution": false,
          "task": false
        },
        "id": "Jo8By2AQeNEP"
      },
      "source": [
        "### Question 8\n",
        "Write a function which takes a string as input and returns the biggest distance between any two letters (a-z ignoring case). Distance in this case means the number of letters apart in the alphabet, so the distance between `\"a\"` and `\"b\"` is `1`, the distance between `\"a\"` and `\"Z\"` is `25`. If the string contains no letters return `-1`."
      ]
    },
    {
      "cell_type": "code",
      "metadata": {
        "deletable": false,
        "nbgrader": {
          "cell_type": "code",
          "checksum": "03e358ee1772cf3534718764500f4c87",
          "grade": false,
          "grade_id": "cell-cdb03a89c16be097",
          "locked": false,
          "schema_version": 3,
          "solution": true,
          "task": false
        },
        "id": "qc_bauIXeNEQ"
      },
      "source": [
        "def biggest_letter_distance(string):\n",
        "    # YOUR CODE HERE\n",
        "    raise NotImplementedError()"
      ],
      "execution_count": null,
      "outputs": []
    },
    {
      "cell_type": "code",
      "metadata": {
        "deletable": false,
        "editable": false,
        "nbgrader": {
          "cell_type": "code",
          "checksum": "e67b1c4c1c03d6712a3f9e8e18f95ba8",
          "grade": true,
          "grade_id": "cell-4e3bc1006f3cde9a",
          "locked": true,
          "points": 10,
          "schema_version": 3,
          "solution": false,
          "task": false
        },
        "id": "edP4PA7MeNER"
      },
      "source": [
        "assert(biggest_letter_distance(\"Hello World\") == 19)\n",
        "assert(biggest_letter_distance(\"!!\") == -1)"
      ],
      "execution_count": null,
      "outputs": []
    },
    {
      "cell_type": "markdown",
      "metadata": {
        "deletable": false,
        "editable": false,
        "nbgrader": {
          "cell_type": "markdown",
          "checksum": "c8050d81f515d7f6ec5e6cd2cb1258b5",
          "grade": false,
          "grade_id": "cell-0ad135a8f7000c63",
          "locked": true,
          "schema_version": 3,
          "solution": false,
          "task": false
        },
        "id": "lHqf3aZDeNES"
      },
      "source": [
        "### Question 9\n",
        "In the following cell the programmer has been experimenting with writing a function that can take either two or three arguments. However, they have made a mistake with their syntax. Find the mistake and fix the code so that it behaves the way they are expecting."
      ]
    },
    {
      "cell_type": "code",
      "metadata": {
        "deletable": false,
        "nbgrader": {
          "cell_type": "code",
          "checksum": "0a3f94131840741074efc88e7679c537",
          "grade": false,
          "grade_id": "cell-8b1227a02347648d",
          "locked": false,
          "schema_version": 3,
          "solution": true,
          "task": false
        },
        "id": "_pD6s3XgeNES"
      },
      "source": [
        "def my_function(a, b):\n",
        "    if a < b:\n",
        "        return a ** 2 + b\n",
        "    else:\n",
        "        return b\n",
        "\n",
        "def my_function(a, b, c):\n",
        "    if c < a and c < b:\n",
        "        return c ** 3 + a ** 2 + b\n",
        "    else:\n",
        "        return my_function(a, b)"
      ],
      "execution_count": null,
      "outputs": []
    },
    {
      "cell_type": "code",
      "metadata": {
        "deletable": false,
        "editable": false,
        "nbgrader": {
          "cell_type": "code",
          "checksum": "6c4b06cf5a02c808cb50934d2a188b56",
          "grade": true,
          "grade_id": "cell-cf0fd922b0a9b735",
          "locked": true,
          "points": 10,
          "schema_version": 3,
          "solution": false,
          "task": false
        },
        "id": "Puj1YL2VeNET",
        "outputId": "6e471477-ac65-41d2-9d5f-767350b674be"
      },
      "source": [
        "assert(my_function(4, 5, 3) == 48)\n",
        "assert(my_function(2, 1) == 1)"
      ],
      "execution_count": null,
      "outputs": [
        {
          "output_type": "error",
          "ename": "TypeError",
          "evalue": "my_function() missing 1 required positional argument: 'c'",
          "traceback": [
            "\u001b[1;31m---------------------------------------------------------------------------\u001b[0m",
            "\u001b[1;31mTypeError\u001b[0m                                 Traceback (most recent call last)",
            "\u001b[1;32m<ipython-input-14-f702f9c734d7>\u001b[0m in \u001b[0;36m<module>\u001b[1;34m\u001b[0m\n\u001b[0;32m      1\u001b[0m \u001b[1;32massert\u001b[0m\u001b[1;33m(\u001b[0m\u001b[0mmy_function\u001b[0m\u001b[1;33m(\u001b[0m\u001b[1;36m4\u001b[0m\u001b[1;33m,\u001b[0m \u001b[1;36m5\u001b[0m\u001b[1;33m,\u001b[0m \u001b[1;36m3\u001b[0m\u001b[1;33m)\u001b[0m \u001b[1;33m==\u001b[0m \u001b[1;36m48\u001b[0m\u001b[1;33m)\u001b[0m\u001b[1;33m\u001b[0m\u001b[1;33m\u001b[0m\u001b[0m\n\u001b[1;32m----> 2\u001b[1;33m \u001b[1;32massert\u001b[0m\u001b[1;33m(\u001b[0m\u001b[0mmy_function\u001b[0m\u001b[1;33m(\u001b[0m\u001b[1;36m2\u001b[0m\u001b[1;33m,\u001b[0m \u001b[1;36m1\u001b[0m\u001b[1;33m)\u001b[0m \u001b[1;33m==\u001b[0m \u001b[1;36m1\u001b[0m\u001b[1;33m)\u001b[0m\u001b[1;33m\u001b[0m\u001b[1;33m\u001b[0m\u001b[0m\n\u001b[0m",
            "\u001b[1;31mTypeError\u001b[0m: my_function() missing 1 required positional argument: 'c'"
          ]
        }
      ]
    },
    {
      "cell_type": "markdown",
      "metadata": {
        "deletable": false,
        "editable": false,
        "nbgrader": {
          "cell_type": "markdown",
          "checksum": "73641c508135401cead54b6b86835d4c",
          "grade": false,
          "grade_id": "cell-07bc34d78372c95e",
          "locked": true,
          "schema_version": 3,
          "solution": false,
          "task": false
        },
        "id": "xwQZsqSzeNEV"
      },
      "source": [
        "### Question 10\n",
        "In the following code cell, a programmer has tried to re-implement the `*` and `//` operators as recursive functions that only use addition and subtraction; no other arithmetic operators (obviously `*` and `//` are not allowed) and no functions like `abs`. We saw an example of multiplication using addition in the unit material already using a loop, and the recursive version is a similar idea. Both functions should work for all reasonably-sized integer inputs `x` and `y`, the programmer is not trying to make them efficient. They should produce *exactly* the same results as the `*` and `//` operators.\n",
        "\n",
        "Unfortunately the programmer has made some errors in their code. For this exercise, debug the code to find and fix all of the errors. Bear in mind that just getting the code to run does not mean you are done, as usual you will need to test the code with various inputs yourself before submitting. This will likely require tracing the code by hand keeping track of the values, even through layers of recursion!"
      ]
    },
    {
      "cell_type": "code",
      "metadata": {
        "deletable": false,
        "nbgrader": {
          "cell_type": "code",
          "checksum": "75abc95d25c57e95b24e271f17fb5559",
          "grade": false,
          "grade_id": "cell-09b65380a7494ba7",
          "locked": false,
          "schema_version": 3,
          "solution": true,
          "task": false
        },
        "id": "2ej3jGsoeNEV"
      },
      "source": [
        "def multiply(x, y):\n",
        "    if y != 0:\n",
        "        return x + multiply(x, y - 1)\n",
        "    else:\n",
        "        return 0\n",
        "    \n",
        "def divide(x, y):\n",
        "    print(\"\")\n",
        "    if x < 0 and y < 0:\n",
        "        print(\"divide function, 'x < 0 and y < 0:'\")\n",
        "        print(\"x: \", x)\n",
        "        print(\"y: \", y)\n",
        "        print(\"\")\n",
        "        return divide(0 - x, 0 - y)\n",
        "    if x < 0 or y < 0:\n",
        "        print(\"divide function, 'x < 0 or y < 0:'\")\n",
        "        print(\"x: \", x)\n",
        "        print(\"y: \", y)\n",
        "        print(\"\")\n",
        "        return 0 - 1 - divide(0 - x, y)\n",
        "    else:\n",
        "        print(\"divide, 'else:'\")\n",
        "        print(\"x: \", x)\n",
        "        print(\"y: \", y)\n",
        "        print(\"\")\n",
        "        return divide_helper(x, y, 0)\n",
        "\n",
        "def divide_helper(x, y, temp):\n",
        "    if y >= x or y <= x and y < 0: # Need to work on this line \n",
        "    # if y >= x:\n",
        "        print(\"divide_helper, 'y >= x:''\")\n",
        "        print(\"x: \", x)\n",
        "        print(\"y: \", y)\n",
        "        print(\"answer: \", temp)\n",
        "        print(\"remainder: \", x)\n",
        "        print(\"\")\n",
        "        return temp\n",
        "    else:\n",
        "        print(\"divide_helper, 'else:''\")\n",
        "        print(\"x: \", x)\n",
        "        print(\"y: \", y)\n",
        "        print(\"temp: \", temp)\n",
        "        print(\"\")\n",
        "        return divide_helper(x - y, y, temp + 1)"
      ],
      "execution_count": 24,
      "outputs": []
    },
    {
      "cell_type": "code",
      "metadata": {
        "deletable": false,
        "editable": false,
        "nbgrader": {
          "cell_type": "code",
          "checksum": "2480e49b3d7bfd0843fd54b79ab70b1a",
          "grade": true,
          "grade_id": "cell-e1ddc5f3ee96a7d5",
          "locked": true,
          "points": 10,
          "schema_version": 3,
          "solution": false,
          "task": false
        },
        "id": "h_ghiGf-eNEX",
        "outputId": "a8a9df89-8328-4095-9c80-baf9ad067a51",
        "colab": {
          "base_uri": "https://localhost:8080/",
          "height": 544
        }
      },
      "source": [
        "assert(multiply(3, 5) == 3 * 5)\n",
        "assert(divide(13, 3) == 13 // 3)\n",
        "# note: using * or // (or similar) in your submission will result in zero marks!"
      ],
      "execution_count": 25,
      "outputs": [
        {
          "output_type": "stream",
          "text": [
            "\n",
            "divide, 'else:'\n",
            "x:  13\n",
            "y:  3\n",
            "\n",
            "divide_helper, 'else:''\n",
            "x:  13\n",
            "y:  3\n",
            "temp:  0\n",
            "\n",
            "divide_helper, 'else:''\n",
            "x:  10\n",
            "y:  3\n",
            "temp:  1\n",
            "\n",
            "divide_helper, 'else:''\n",
            "x:  7\n",
            "y:  3\n",
            "temp:  2\n",
            "\n",
            "divide_helper, 'else:''\n",
            "x:  4\n",
            "y:  3\n",
            "temp:  3\n",
            "\n",
            "divide_helper, 'y >= x:''\n",
            "x:  1\n",
            "y:  3\n",
            "answer:  4\n",
            "remainder:  1\n",
            "\n"
          ],
          "name": "stdout"
        }
      ]
    },
    {
      "cell_type": "code",
      "metadata": {
        "id": "znPIaIP0eNEY",
        "outputId": "32627a35-698b-45b5-d681-8b8d96f9971d",
        "colab": {
          "base_uri": "https://localhost:8080/",
          "height": 759
        }
      },
      "source": [
        "assert(divide(25, 5) == 25 // 5)\n",
        "assert(divide(-25, -5) == -25 // -5)\n",
        "assert(divide(25, -5) == 25 // -5)\n",
        "assert(divide(-25, 5) == -25 // 5)\n",
        "assert(divide(26, 5) == 26 // 5)\n",
        "assert(divide(-26, -5) == -26 // -5)\n",
        "assert(divide(26, -5) == 26 // -5)\n",
        "assert(divide(-26, 5) == -26 // 5)"
      ],
      "execution_count": 26,
      "outputs": [
        {
          "output_type": "stream",
          "text": [
            "\n",
            "divide, 'else:'\n",
            "x:  25\n",
            "y:  5\n",
            "\n",
            "divide_helper, 'else:''\n",
            "x:  25\n",
            "y:  5\n",
            "temp:  0\n",
            "\n",
            "divide_helper, 'else:''\n",
            "x:  20\n",
            "y:  5\n",
            "temp:  1\n",
            "\n",
            "divide_helper, 'else:''\n",
            "x:  15\n",
            "y:  5\n",
            "temp:  2\n",
            "\n",
            "divide_helper, 'else:''\n",
            "x:  10\n",
            "y:  5\n",
            "temp:  3\n",
            "\n",
            "divide_helper, 'y >= x:''\n",
            "x:  5\n",
            "y:  5\n",
            "answer:  4\n",
            "remainder:  5\n",
            "\n"
          ],
          "name": "stdout"
        },
        {
          "output_type": "error",
          "ename": "AssertionError",
          "evalue": "ignored",
          "traceback": [
            "\u001b[0;31m---------------------------------------------------------------------------\u001b[0m",
            "\u001b[0;31mAssertionError\u001b[0m                            Traceback (most recent call last)",
            "\u001b[0;32m<ipython-input-26-977bfad3a6ac>\u001b[0m in \u001b[0;36m<module>\u001b[0;34m()\u001b[0m\n\u001b[0;32m----> 1\u001b[0;31m \u001b[0;32massert\u001b[0m\u001b[0;34m(\u001b[0m\u001b[0mdivide\u001b[0m\u001b[0;34m(\u001b[0m\u001b[0;36m25\u001b[0m\u001b[0;34m,\u001b[0m \u001b[0;36m5\u001b[0m\u001b[0;34m)\u001b[0m \u001b[0;34m==\u001b[0m \u001b[0;36m25\u001b[0m \u001b[0;34m//\u001b[0m \u001b[0;36m5\u001b[0m\u001b[0;34m)\u001b[0m\u001b[0;34m\u001b[0m\u001b[0;34m\u001b[0m\u001b[0m\n\u001b[0m\u001b[1;32m      2\u001b[0m \u001b[0;32massert\u001b[0m\u001b[0;34m(\u001b[0m\u001b[0mdivide\u001b[0m\u001b[0;34m(\u001b[0m\u001b[0;34m-\u001b[0m\u001b[0;36m25\u001b[0m\u001b[0;34m,\u001b[0m \u001b[0;34m-\u001b[0m\u001b[0;36m5\u001b[0m\u001b[0;34m)\u001b[0m \u001b[0;34m==\u001b[0m \u001b[0;34m-\u001b[0m\u001b[0;36m25\u001b[0m \u001b[0;34m//\u001b[0m \u001b[0;34m-\u001b[0m\u001b[0;36m5\u001b[0m\u001b[0;34m)\u001b[0m\u001b[0;34m\u001b[0m\u001b[0;34m\u001b[0m\u001b[0m\n\u001b[1;32m      3\u001b[0m \u001b[0;32massert\u001b[0m\u001b[0;34m(\u001b[0m\u001b[0mdivide\u001b[0m\u001b[0;34m(\u001b[0m\u001b[0;36m25\u001b[0m\u001b[0;34m,\u001b[0m \u001b[0;34m-\u001b[0m\u001b[0;36m5\u001b[0m\u001b[0;34m)\u001b[0m \u001b[0;34m==\u001b[0m \u001b[0;36m25\u001b[0m \u001b[0;34m//\u001b[0m \u001b[0;34m-\u001b[0m\u001b[0;36m5\u001b[0m\u001b[0;34m)\u001b[0m\u001b[0;34m\u001b[0m\u001b[0;34m\u001b[0m\u001b[0m\n\u001b[1;32m      4\u001b[0m \u001b[0;32massert\u001b[0m\u001b[0;34m(\u001b[0m\u001b[0mdivide\u001b[0m\u001b[0;34m(\u001b[0m\u001b[0;34m-\u001b[0m\u001b[0;36m25\u001b[0m\u001b[0;34m,\u001b[0m \u001b[0;36m5\u001b[0m\u001b[0;34m)\u001b[0m \u001b[0;34m==\u001b[0m \u001b[0;34m-\u001b[0m\u001b[0;36m25\u001b[0m \u001b[0;34m//\u001b[0m \u001b[0;36m5\u001b[0m\u001b[0;34m)\u001b[0m\u001b[0;34m\u001b[0m\u001b[0;34m\u001b[0m\u001b[0m\n\u001b[1;32m      5\u001b[0m \u001b[0;32massert\u001b[0m\u001b[0;34m(\u001b[0m\u001b[0mdivide\u001b[0m\u001b[0;34m(\u001b[0m\u001b[0;36m26\u001b[0m\u001b[0;34m,\u001b[0m \u001b[0;36m5\u001b[0m\u001b[0;34m)\u001b[0m \u001b[0;34m==\u001b[0m \u001b[0;36m26\u001b[0m \u001b[0;34m//\u001b[0m \u001b[0;36m5\u001b[0m\u001b[0;34m)\u001b[0m\u001b[0;34m\u001b[0m\u001b[0;34m\u001b[0m\u001b[0m\n",
            "\u001b[0;31mAssertionError\u001b[0m: "
          ]
        }
      ]
    },
    {
      "cell_type": "code",
      "metadata": {
        "id": "ZbY7FU4SeNEZ"
      },
      "source": [
        ""
      ],
      "execution_count": null,
      "outputs": []
    }
  ]
}