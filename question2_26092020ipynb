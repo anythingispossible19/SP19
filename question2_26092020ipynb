{
  "nbformat": 4,
  "nbformat_minor": 0,
  "metadata": {
    "colab": {
      "name": "Untitled13.ipynb",
      "provenance": [],
      "authorship_tag": "ABX9TyMPXfnwRm0jbvov5/tKQwaX",
      "include_colab_link": true
    },
    "kernelspec": {
      "name": "python3",
      "display_name": "Python 3"
    }
  },
  "cells": [
    {
      "cell_type": "markdown",
      "metadata": {
        "id": "view-in-github",
        "colab_type": "text"
      },
      "source": [
        "<a href=\"https://colab.research.google.com/github/anythingispossible19/SP19/blob/master/question2_26092020ipynb\" target=\"_parent\"><img src=\"https://colab.research.google.com/assets/colab-badge.svg\" alt=\"Open In Colab\"/></a>"
      ]
    },
    {
      "cell_type": "markdown",
      "metadata": {
        "id": "keFIP-YlKlyV"
      },
      "source": [
        "You shouldn't return the list. There are some methods that can modify and overwrite the list passed as an input, you have to modify it inside the reverse_list and then return nothing.\n",
        "\n",
        "Try a simple modification inside a test function and check how it works \n",
        "I.e \n",
        "print list\n",
        "Test_modify(list)\n",
        "Print list"
      ]
    },
    {
      "cell_type": "markdown",
      "metadata": {
        "id": "jCKrBLQ1IyMX"
      },
      "source": [
        "Now write a procedure that takes a list as an input and reverses its contents. So, the procedure should not return anything, and the inputted list should be modified. Of course, you still must not use inbuilt Python features which reverse lists."
      ]
    },
    {
      "cell_type": "code",
      "metadata": {
        "id": "uyu-_hXcHABi"
      },
      "source": [
        "# procedure that takes list as input. \n",
        "\n",
        "def reverse_list(in_list):\n",
        "   in_list = in_list[::-1]\n",
        "    return in_list:\n",
        "    \n",
        "\n",
        "\n",
        "\n",
        "    raise NotImplementedError()\n",
        "test_in = [1, 2]\n",
        "reverse_list(test_in)\n",
        "assert(test_in == [2, 1])\n"
      ],
      "execution_count": null,
      "outputs": []
    },
    {
      "cell_type": "code",
      "metadata": {
        "id": "QJyKZ6dzLvjT",
        "outputId": "1a4e3df5-3db4-4e1d-f18d-6bdc3ed72331",
        "colab": {
          "base_uri": "https://localhost:8080/",
          "height": 198
        }
      },
      "source": [
        "def reverse_list(in_list):\n",
        "  in_list = ['1', '2']\n",
        "\n",
        "  return in_list\n",
        "reverse_list()"
      ],
      "execution_count": 13,
      "outputs": [
        {
          "output_type": "error",
          "ename": "NameError",
          "evalue": "ignored",
          "traceback": [
            "\u001b[0;31m---------------------------------------------------------------------------\u001b[0m",
            "\u001b[0;31mNameError\u001b[0m                                 Traceback (most recent call last)",
            "\u001b[0;32m<ipython-input-13-33990869c182>\u001b[0m in \u001b[0;36m<module>\u001b[0;34m()\u001b[0m\n\u001b[1;32m      3\u001b[0m \u001b[0;34m\u001b[0m\u001b[0m\n\u001b[1;32m      4\u001b[0m   \u001b[0;32mreturn\u001b[0m \u001b[0min_list\u001b[0m\u001b[0;34m\u001b[0m\u001b[0;34m\u001b[0m\u001b[0m\n\u001b[0;32m----> 5\u001b[0;31m \u001b[0min_list\u001b[0m\u001b[0;34m(\u001b[0m\u001b[0;36m1\u001b[0m\u001b[0;34m,\u001b[0m \u001b[0;36m2\u001b[0m\u001b[0;34m)\u001b[0m\u001b[0;34m\u001b[0m\u001b[0;34m\u001b[0m\u001b[0m\n\u001b[0m",
            "\u001b[0;31mNameError\u001b[0m: name 'in_list' is not defined"
          ]
        }
      ]
    },
    {
      "cell_type": "code",
      "metadata": {
        "id": "tWRA0jCML--E"
      },
      "source": [
        ""
      ],
      "execution_count": null,
      "outputs": []
    }
  ]
}