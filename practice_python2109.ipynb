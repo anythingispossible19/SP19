{
  "nbformat": 4,
  "nbformat_minor": 0,
  "metadata": {
    "colab": {
      "name": "Untitled11.ipynb",
      "provenance": [],
      "authorship_tag": "ABX9TyPv4OjSIySAYdLTyneaOI9d",
      "include_colab_link": true
    },
    "kernelspec": {
      "name": "python3",
      "display_name": "Python 3"
    }
  },
  "cells": [
    {
      "cell_type": "markdown",
      "metadata": {
        "id": "view-in-github",
        "colab_type": "text"
      },
      "source": [
        "<a href=\"https://colab.research.google.com/github/anythingispossible19/SP19/blob/master/practice_python2109.ipynb\" target=\"_parent\"><img src=\"https://colab.research.google.com/assets/colab-badge.svg\" alt=\"Open In Colab\"/></a>"
      ]
    },
    {
      "cell_type": "markdown",
      "metadata": {
        "id": "U1BWFuLpEVES",
        "colab_type": "text"
      },
      "source": [
        "Write a function which takes a string as input and returns the biggest distance between any two letters (a-z ignoring case). Distance in this case means the number of letters apart in the alphabet, so the distance between \"a\" and \"b\" is 1, the distance between \"a\" and \"Z\" is 25. If the string contains no letters return -1."
      ]
    },
    {
      "cell_type": "code",
      "metadata": {
        "id": "sz5Kvo808Wts",
        "colab_type": "code",
        "colab": {}
      },
      "source": [
        "# Biggest letter distance\n",
        "def biggest_letter_distance\n",
        "\n",
        "# Count letters between a-z\n",
        "letters = 'string'\n",
        "\n",
        "# Take away letters (Max - min) \n",
        "biggest_distance = ord(letters(max - min))\n"
      ],
      "execution_count": null,
      "outputs": []
    },
    {
      "cell_type": "code",
      "metadata": {
        "id": "s8M1Gzin8elk",
        "colab_type": "code",
        "colab": {
          "base_uri": "https://localhost:8080/",
          "height": 34
        },
        "outputId": "7cc3afde-10d3-43af-fbfc-987155bd003c"
      },
      "source": [
        "# biggest letter distance\n",
        "# def biggest_letter_distance(string)\n",
        "# def biggest_letter_distance(string)\n",
        "\n",
        "\n",
        "\n",
        "letters = \"abcdefghijklmnopqrst\"\n",
        "\n",
        "numbers = [ord(letter) - 96 for letter in letters]\n",
        "\n",
        "print(numbers)"
      ],
      "execution_count": 1,
      "outputs": [
        {
          "output_type": "stream",
          "text": [
            "[1, 2, 3, 4, 5, 6, 7, 8, 9, 10, 11, 12, 13, 14, 15, 16, 17, 18, 19, 20]\n"
          ],
          "name": "stdout"
        }
      ]
    },
    {
      "cell_type": "code",
      "metadata": {
        "id": "UpOgQ4hlT4Wr",
        "colab_type": "code",
        "colab": {
          "base_uri": "https://localhost:8080/",
          "height": 34
        },
        "outputId": "15681beb-dc5e-4a13-c177-569900578de9"
      },
      "source": [
        "def Number_of_letter_from_alphabet_minus_96(letters)\n",
        "alphabet = 'abcdefghijklmnopqrstuvwxyz'\n",
        "ord('a') - 96\n",
        "\n"
      ],
      "execution_count": 14,
      "outputs": [
        {
          "output_type": "execute_result",
          "data": {
            "text/plain": [
              "1"
            ]
          },
          "metadata": {
            "tags": []
          },
          "execution_count": 14
        }
      ]
    },
    {
      "cell_type": "code",
      "metadata": {
        "id": "0hrbBkFkZ3o1",
        "colab_type": "code",
        "colab": {
          "base_uri": "https://localhost:8080/",
          "height": 37
        },
        "outputId": "a45ffe27-9fbe-40bb-d9e9-8cb9186e3f02"
      },
      "source": [
        "def smallest_ignore_case(x):\n",
        "  #creates string with only upper case letters from x \n",
        "  x_upper= [character for character in x if character.isupper()]\n",
        "  x_upper=\"\".join(x_upper)\n",
        "  \n",
        "  #creates string with only lower case letters from x\n",
        "  x_lower= [character for character in x if character.islower()]\n",
        "  x_lower=\"\".join(x_lower)\n",
        "  a = x_upper[0]\n",
        "  b = x_lower[0]\n",
        "  \n",
        "  #finds smallest upper case\n",
        "  for i in range(len(x_upper)):\n",
        "    if x_upper[i] < a:\n",
        "      a= x_upper[i]\n",
        "  \n",
        "  #finds smallest lower case    \n",
        "  for i in range(len(x_lower)):\n",
        "    if x_lower[i] < b:\n",
        "      b= x_lower[i]\n",
        "  \n",
        "  #compares smallest upper and lower case\n",
        "  if a.lower() < b:\n",
        "    smallest_letter=a\n",
        "  elif a.lower() > b:\n",
        "    smallest_letter=b\n",
        "  \n",
        "  #compares position of letters in x when letters are same\n",
        "  elif x.find(a) < x.find(b):\n",
        "    smallest_letter=a\n",
        "  else:\n",
        "    smallest_letter=b\n",
        "  \n",
        "  return smallest_letter\n",
        "\n",
        "smallest_ignore_case('What an AARDVARK!')"
      ],
      "execution_count": 6,
      "outputs": [
        {
          "output_type": "execute_result",
          "data": {
            "application/vnd.google.colaboratory.intrinsic+json": {
              "type": "string"
            },
            "text/plain": [
              "'a'"
            ]
          },
          "metadata": {
            "tags": []
          },
          "execution_count": 6
        }
      ]
    },
    {
      "cell_type": "code",
      "metadata": {
        "id": "gqYsYADemaZV",
        "colab_type": "code",
        "colab": {}
      },
      "source": [
        "assert(smallest_ignore_case(\"Hello World\") == \"d\")\n",
        "assert(smallest_ignore_case(\"HeLLo WorLD\") == \"D\")\n",
        "assert(smallest_ignore_case(\"What an AARDVARK!\") == \"a\")"
      ],
      "execution_count": null,
      "outputs": []
    },
    {
      "cell_type": "code",
      "metadata": {
        "id": "4OGRaAxGRP7t",
        "colab_type": "code",
        "colab": {
          "base_uri": "https://localhost:8080/",
          "height": 37
        },
        "outputId": "b8f7d3ab-ec4c-442d-8d74-f6ef90a80c79"
      },
      "source": [
        "# This code was written with help of https://www.kite.com/python/answers/how-to-remove-special-characters-from-a-string-in-python &  https://www.w3resource.com/python-exercises/python-basic-exercise-128.php\n",
        "def smallest_letter(x):    \n",
        "    if any(i.islower() for i in x):\n",
        "        x= [character for character in x if character.isalnum()]\n",
        "        x=\"\".join(x)\n",
        "        a = x[0] \n",
        "        for i in range(len(x)):\n",
        "            if x[i] < a :\n",
        "                a = x[i]\n",
        "    else:\n",
        "        a = \"\"\n",
        "    return a\n",
        "    \n",
        "    raise NotImplementedError()\n",
        "\n",
        "smallest_letter('haider')   "
      ],
      "execution_count": 3,
      "outputs": [
        {
          "output_type": "execute_result",
          "data": {
            "application/vnd.google.colaboratory.intrinsic+json": {
              "type": "string"
            },
            "text/plain": [
              "'a'"
            ]
          },
          "metadata": {
            "tags": []
          },
          "execution_count": 3
        }
      ]
    },
    {
      "cell_type": "markdown",
      "metadata": {
        "id": "hoeD2WdgTThG",
        "colab_type": "text"
      },
      "source": [
        "The reason why we can compare strings alphabetically using < and >, but only for characters of the same case, is because it is actually comparing the character values. Python uses Unicode for its characters, but you might also hear people refer to ASCII character values too, since Unicode is backwards compatible and uses the same values for basic Latin script, numerals, and the symbols you find on a UK keyboard.\n",
        "\n",
        "You can convert a single-character string into its character value using the inbuilt function ord, and you can convert back from a number into a single-character string using chr. So ord(\"A\") == 65 and chr(65) == \"A\". Since each character's value is sequential (A is 65, B is 66, …), if you think about it, you can use these functions to convert between cases. You can also use string methods like .lower() and .upper().\n",
        "\n",
        "Now, armed with this new information, write a function which works the same as the previous question except it produces the smallest alphabetical letter of either case. If the string contains an upper and lower case character which is alphabetically first, return the value of the character which occurs first in the string. The case of the return value must match the input. See the tests for clarifying examples."
      ]
    },
    {
      "cell_type": "code",
      "metadata": {
        "id": "Zue2gJKpTZFl",
        "colab_type": "code",
        "colab": {}
      },
      "source": [
        "assert(smallest_ignore_case(\"Hello World\") == \"d\")\n",
        "assert(smallest_ignore_case(\"HeLLo WorLD\") == \"D\")\n",
        "assert(smallest_ignore_case(\"What an AARDVARK!\") == \"a\")"
      ],
      "execution_count": null,
      "outputs": []
    },
    {
      "cell_type": "code",
      "metadata": {
        "id": "sdcgDWuwVXvs",
        "colab_type": "code",
        "colab": {}
      },
      "source": [
        "def smallest_ignore_case1(string):\n",
        "    chars = [char for char in string if char.isalpha()]\n",
        "    return min(chars, key=str.lower) if chars else \"\""
      ],
      "execution_count": 21,
      "outputs": []
    },
    {
      "cell_type": "code",
      "metadata": {
        "id": "47phjxTHVasx",
        "colab_type": "code",
        "colab": {
          "base_uri": "https://localhost:8080/",
          "height": 37
        },
        "outputId": "32361127-a328-4017-b363-5c5082a069ee"
      },
      "source": [
        "smallest_ignore_case1(\"Adam\")"
      ],
      "execution_count": 26,
      "outputs": [
        {
          "output_type": "execute_result",
          "data": {
            "application/vnd.google.colaboratory.intrinsic+json": {
              "type": "string"
            },
            "text/plain": [
              "'A'"
            ]
          },
          "metadata": {
            "tags": []
          },
          "execution_count": 26
        }
      ]
    },
    {
      "cell_type": "code",
      "metadata": {
        "id": "HcbFdpCJVwLx",
        "colab_type": "code",
        "colab": {}
      },
      "source": [
        "def mymul(a, b):\n",
        "  c = a * b\n",
        "  return c\n",
        "  "
      ],
      "execution_count": 35,
      "outputs": []
    },
    {
      "cell_type": "code",
      "metadata": {
        "id": "YIvBXglJWq7D",
        "colab_type": "code",
        "colab": {
          "base_uri": "https://localhost:8080/",
          "height": 34
        },
        "outputId": "2e87dfe7-2773-44bf-b18a-d7ca027ccc25"
      },
      "source": [
        "mymul(2,3)"
      ],
      "execution_count": 36,
      "outputs": [
        {
          "output_type": "execute_result",
          "data": {
            "text/plain": [
              "6"
            ]
          },
          "metadata": {
            "tags": []
          },
          "execution_count": 36
        }
      ]
    },
    {
      "cell_type": "code",
      "metadata": {
        "id": "x-LgFwP_XR3-",
        "colab_type": "code",
        "colab": {
          "base_uri": "https://localhost:8080/",
          "height": 54
        },
        "outputId": "e7a56be0-72a4-4bb9-b88f-e5a3a0347283"
      },
      "source": [
        "def smallest_ignore_case1(string):\n",
        "    chars = [char for char in string if char.isalpha()]\n",
        "    print(chars)\n",
        "    return min(chars, key=str.lower) if chars else \"\"\n",
        "\n",
        "smallest_ignore_case1(\"Adam\")"
      ],
      "execution_count": 45,
      "outputs": [
        {
          "output_type": "stream",
          "text": [
            "['A', 'd', 'a', 'm']\n"
          ],
          "name": "stdout"
        },
        {
          "output_type": "execute_result",
          "data": {
            "application/vnd.google.colaboratory.intrinsic+json": {
              "type": "string"
            },
            "text/plain": [
              "'A'"
            ]
          },
          "metadata": {
            "tags": []
          },
          "execution_count": 45
        }
      ]
    },
    {
      "cell_type": "markdown",
      "metadata": {
        "id": "NIS5Hg39Zq7-",
        "colab_type": "text"
      },
      "source": [
        "Write a function which takes a string as input and returns the biggest distance between any two letters (a-z ignoring case). Distance in this case means the number of letters apart in the alphabet, so the distance between \"a\" and \"b\" is 1, the distance between \"a\" and \"Z\" is 25. If the string contains no letters return -1."
      ]
    },
    {
      "cell_type": "code",
      "metadata": {
        "id": "uwdNcHfRaMTy",
        "colab_type": "code",
        "colab": {}
      },
      "source": [
        "def biggest_letter_distance(string):\n",
        "    string = [char.lower() for char in string if char.isalpha()]\n",
        "    # print(string)\n",
        "    if not string:\n",
        "         return -1\n",
        "    letters = sorted(set(string))\n",
        "    # print(letters)\n",
        "    return ord(letters[-1]) - ord(letters[0])"
      ],
      "execution_count": 57,
      "outputs": []
    },
    {
      "cell_type": "code",
      "metadata": {
        "id": "JA-bKzinaiAz",
        "colab_type": "code",
        "colab": {
          "base_uri": "https://localhost:8080/",
          "height": 68
        },
        "outputId": "698a7304-1c19-4eb1-b622-6b27a54b54e1"
      },
      "source": [
        "biggest_letter_distance(\"Hello World\")\n"
      ],
      "execution_count": 58,
      "outputs": [
        {
          "output_type": "stream",
          "text": [
            "['h', 'e', 'l', 'l', 'o', 'w', 'o', 'r', 'l', 'd']\n",
            "abcdefghijklmnopqrst\n"
          ],
          "name": "stdout"
        },
        {
          "output_type": "execute_result",
          "data": {
            "text/plain": [
              "19"
            ]
          },
          "metadata": {
            "tags": []
          },
          "execution_count": 58
        }
      ]
    },
    {
      "cell_type": "code",
      "metadata": {
        "id": "TcIrnWEkZ8tw",
        "colab_type": "code",
        "colab": {}
      },
      "source": [
        "assert(biggest_letter_distance(\"Hello World\") == 19)\n",
        "assert(biggest_letter_distance(\"!!\") == -1)"
      ],
      "execution_count": 47,
      "outputs": []
    }
  ]
}