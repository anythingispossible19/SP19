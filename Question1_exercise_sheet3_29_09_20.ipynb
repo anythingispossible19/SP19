{
  "nbformat": 4,
  "nbformat_minor": 0,
  "metadata": {
    "colab": {
      "name": "Untitled25.ipynb",
      "provenance": [],
      "authorship_tag": "ABX9TyNf11hohSs0bST2Id/+VU06",
      "include_colab_link": true
    },
    "kernelspec": {
      "name": "python3",
      "display_name": "Python 3"
    }
  },
  "cells": [
    {
      "cell_type": "markdown",
      "metadata": {
        "id": "view-in-github",
        "colab_type": "text"
      },
      "source": [
        "<a href=\"https://colab.research.google.com/github/anythingispossible19/SP19/blob/master/Question1_exercise_sheet3_29_09_20.ipynb\" target=\"_parent\"><img src=\"https://colab.research.google.com/assets/colab-badge.svg\" alt=\"Open In Colab\"/></a>"
      ]
    },
    {
      "cell_type": "markdown",
      "metadata": {
        "id": "58jOLQVMQ5VK"
      },
      "source": [
        "In the UK, the National Lottery requires you to pick 6 numbers from 1 to 59 inclusive. There is a well known formula for calculating how many ways you can draw  𝑥\n",
        "x\n",
        "  values from  𝑦\n",
        "y\n",
        "  possible values, these are called combinations.\n",
        "\n",
        "For this exercise, write a function which takes two positive integers x and y, where  𝑥≤𝑦\n",
        "x\n",
        "≤\n",
        "y\n",
        " , and returns the probability of winning the lottery jackpot, for x balls which are drawn from values 1-y inclusive. The probability is equal to 1 divided by the number of possible combinations for that many balls.\n",
        "\n",
        "Rather than calculate this manually, you are encouraged to use the math module."
      ]
    },
    {
      "cell_type": "code",
      "metadata": {
        "id": "YpoOgU12Qzw_"
      },
      "source": [
        "def lottery_probability(x, y):\n",
        "    # YOUR CODE HERE"
      ],
      "execution_count": null,
      "outputs": []
    },
    {
      "cell_type": "code",
      "metadata": {
        "id": "-8lHWza8RUas"
      },
      "source": [
        "assert(lottery_probability(6, 59) == 1/45057474)"
      ],
      "execution_count": null,
      "outputs": []
    }
  ]
}