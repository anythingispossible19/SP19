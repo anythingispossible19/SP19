{
  "nbformat": 4,
  "nbformat_minor": 0,
  "metadata": {
    "kernelspec": {
      "display_name": "Python 3",
      "language": "python",
      "name": "python3"
    },
    "language_info": {
      "codemirror_mode": {
        "name": "ipython",
        "version": 3
      },
      "file_extension": ".py",
      "mimetype": "text/x-python",
      "name": "python",
      "nbconvert_exporter": "python",
      "pygments_lexer": "ipython3",
      "version": "3.8.3"
    },
    "colab": {
      "name": "roti13-code completion exercise.ipynb",
      "provenance": [],
      "include_colab_link": true
    }
  },
  "cells": [
    {
      "cell_type": "markdown",
      "metadata": {
        "id": "view-in-github",
        "colab_type": "text"
      },
      "source": [
        "<a href=\"https://colab.research.google.com/github/anythingispossible19/SP19/blob/master/roti13_code_completion_exercise_date_27_10_20.ipynb\" target=\"_parent\"><img src=\"https://colab.research.google.com/assets/colab-badge.svg\" alt=\"Open In Colab\"/></a>"
      ]
    },
    {
      "cell_type": "code",
      "metadata": {
        "id": "GkHvgDa3bTa6"
      },
      "source": [
        "\"\"\"\n",
        "This function represents a cipher to encrypt & decrypt strings via the Rot13 algorithm.\n",
        "See: https://en.wikipedia.org/wiki/ROT13\n",
        "See also: https://en.wikipedia.org/wiki/Caesar_cipher\n",
        "\"\"\"\n",
        "\n",
        "def rot13(txt, excl=[' ', '!']):\n",
        "    \n",
        "    \"\"\"\n",
        "    This is the ROT13 cipher for uppercase text strings. \n",
        "    By default it will ignore all characters in the list excl.\n",
        "    \"\"\"\n",
        "\n",
        "    # variable representing the converted string to return on completion  \n",
        "    result = \"\"   \n",
        "\n",
        "    # 1. For each character of the string we have passed in via txt\n",
        "    for oldElement in txt:   \n",
        "\n",
        "        # 2. Is it excluded via the list passed in via excl?\n",
        "        # if so, ignore but add to result \n",
        "        if oldElement in excl: \n",
        "            result = result + oldElement   \n",
        "            continue \n",
        "\n",
        "        # 3. Is it in ACII A-Z?\n",
        "        # if not, go to next character in txt   \n",
        "        if not ord(oldElement) >= 65 and ord(oldElement) <= 90:            \n",
        "            result = result + oldElement  \n",
        "            continue\n",
        "        \n",
        "        # 4. Print original character \n",
        "        print(\"**Original character**\")\n",
        "        print(oldElement)\n",
        "\n",
        "        # 5. Get ASCII representation of the oldElement character via 'ord' function \n",
        "        # CHANGE LINE BELOW\n",
        "        elementAscii = \"\"\n",
        "        print(\"Original ASCII\")\n",
        "        print(elementAscii)\n",
        "\n",
        "        # 6. Ensure upper case index for the new element scaled to range 0-25 from A-Z.\n",
        "        # Do this as we need to use the mod 26 operation to shift the 13 characters. \n",
        "        # CHANGE LINE BELOW    \n",
        "        elementAscii = \"\"\n",
        "        print(\"ASCII - 65\")\n",
        "        print(elementAscii)\n",
        "\n",
        "        # 7. Shift the 0 - 25 index for the new element to the offset (13), then apply mod 26 \n",
        "        # (see the wiki pages above for the equation.)\n",
        "        # This is needed as we need to use mod 26, and so scale the characters to 0 - 25, \n",
        "        # for which we need to do a - 65, and + 65 below \n",
        "        # CHANGE LINE BELOW \n",
        "        elementAscii = \"\"\n",
        "        print(\"ASCII + 13 mod 26\")\n",
        "        print(elementAscii)\n",
        "            \n",
        "        # 8. Ensure upper case index for the new element in range A-Z again\n",
        "        # CHANGE LINE BELOW \n",
        "        elementAscii = \"\"\n",
        "        print(\"Converted ASCII + 65\")\n",
        "        print(elementAscii)\n",
        "            \n",
        "        # 9.Convert to charcter as have desired indes \n",
        "        # CHANGE LINE BELOW \n",
        "        elementAscii = \"\"\n",
        "        print(\"**New character**\")\n",
        "        print(elementAscii)\n",
        "        \n",
        "        # 10. Append to result variable \n",
        "        result += elementAscii   \n",
        "        \n",
        "    # 11. On completion of for loop, return the converted string \n",
        "    return(result)"
      ],
      "execution_count": null,
      "outputs": []
    },
    {
      "cell_type": "code",
      "metadata": {
        "id": "HNEcXKtjbTa_",
        "outputId": "0b1053e7-6316-4132-9b06-ad9e14decd85"
      },
      "source": [
        "# encrypt \n",
        "result = rot13(\"A\")\n",
        "print(\"****Encryption****\")\n",
        "print(result)\n",
        "\n",
        "# decrypt \n",
        "result = rot13(result) \n",
        "print(\"****Decryption****\")\n",
        "print(result)\n",
        "\n",
        "# returned currently, this is wrong\n",
        "assert rot13(rot13(\"A\")) == \"\"\n",
        "\n",
        "# change the code in rot13 to return \"A\", i.e. the result of an encryption then decryption, as per lines 1 - 9\n",
        "assert rot13(rot13(\"A\")) == \"A\""
      ],
      "execution_count": null,
      "outputs": [
        {
          "output_type": "stream",
          "text": [
            "**Original character**\n",
            "A\n",
            "Original ASCII\n",
            "\n",
            "ASCII - 65\n",
            "\n",
            "ASCII + 13 mod 26\n",
            "\n",
            "Converted ASCII + 65\n",
            "\n",
            "**New character**\n",
            "\n",
            "****Encryption****\n",
            "\n",
            "****Decryption****\n",
            "\n",
            "**Original character**\n",
            "A\n",
            "Original ASCII\n",
            "\n",
            "ASCII - 65\n",
            "\n",
            "ASCII + 13 mod 26\n",
            "\n",
            "Converted ASCII + 65\n",
            "\n",
            "**New character**\n",
            "\n",
            "**Original character**\n",
            "A\n",
            "Original ASCII\n",
            "\n",
            "ASCII - 65\n",
            "\n",
            "ASCII + 13 mod 26\n",
            "\n",
            "Converted ASCII + 65\n",
            "\n",
            "**New character**\n",
            "\n"
          ],
          "name": "stdout"
        },
        {
          "output_type": "error",
          "ename": "AssertionError",
          "evalue": "",
          "traceback": [
            "\u001b[1;31m---------------------------------------------------------------------------\u001b[0m",
            "\u001b[1;31mAssertionError\u001b[0m                            Traceback (most recent call last)",
            "\u001b[1;32m<ipython-input-13-0cac2d097be6>\u001b[0m in \u001b[0;36m<module>\u001b[1;34m\u001b[0m\n\u001b[0;32m     13\u001b[0m \u001b[1;33m\u001b[0m\u001b[0m\n\u001b[0;32m     14\u001b[0m \u001b[1;31m# change the code to return \"A\", i.e. the result of an encryption then decryption, as per lines 1 - 9\u001b[0m\u001b[1;33m\u001b[0m\u001b[1;33m\u001b[0m\u001b[1;33m\u001b[0m\u001b[0m\n\u001b[1;32m---> 15\u001b[1;33m \u001b[1;32massert\u001b[0m \u001b[0mrot13\u001b[0m\u001b[1;33m(\u001b[0m\u001b[0mrot13\u001b[0m\u001b[1;33m(\u001b[0m\u001b[1;34m\"A\"\u001b[0m\u001b[1;33m)\u001b[0m\u001b[1;33m)\u001b[0m \u001b[1;33m==\u001b[0m \u001b[1;34m\"A\"\u001b[0m\u001b[1;33m\u001b[0m\u001b[1;33m\u001b[0m\u001b[0m\n\u001b[0m",
            "\u001b[1;31mAssertionError\u001b[0m: "
          ]
        }
      ]
    }
  ]
}