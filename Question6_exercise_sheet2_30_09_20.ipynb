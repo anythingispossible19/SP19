{
  "nbformat": 4,
  "nbformat_minor": 0,
  "metadata": {
    "colab": {
      "name": "Untitled27.ipynb",
      "provenance": [],
      "authorship_tag": "ABX9TyOghWiKnL98RpcnwvuyqKHn",
      "include_colab_link": true
    },
    "kernelspec": {
      "name": "python3",
      "display_name": "Python 3"
    }
  },
  "cells": [
    {
      "cell_type": "markdown",
      "metadata": {
        "id": "view-in-github",
        "colab_type": "text"
      },
      "source": [
        "<a href=\"https://colab.research.google.com/github/anythingispossible19/SP19/blob/master/Question6_exercise_sheet2_30_09_20.ipynb\" target=\"_parent\"><img src=\"https://colab.research.google.com/assets/colab-badge.svg\" alt=\"Open In Colab\"/></a>"
      ]
    },
    {
      "cell_type": "markdown",
      "metadata": {
        "id": "kwncKA9TKyUz"
      },
      "source": [
        "Write a function which takes a list of numbers of length  ≥2\n",
        "≥\n",
        "2\n",
        " , and returns a tuple containing the arithmetic mean and the unbiased sample variance of those numbers.\n",
        "\n",
        "i.e. given a list of items  [𝑥1,𝑥2,…,𝑥𝑁]\n",
        "[\n",
        "x\n",
        "1\n",
        ",\n",
        "x\n",
        "2\n",
        ",\n",
        "…\n",
        ",\n",
        "x\n",
        "N\n",
        "]\n",
        " , return a tuple  (𝑚,𝑠2)\n",
        "(\n",
        "m\n",
        ",\n",
        "s\n",
        "2\n",
        ")\n",
        "  where:\n",
        "\n",
        "𝑚𝑠2=1𝑁∑𝑖=1𝑁𝑥𝑖=1𝑁−1∑𝑖=1𝑁(𝑥𝑖−𝑚)2.\n",
        "m\t=\n",
        "1\n",
        "N\n",
        "∑\n",
        "i\n",
        "=\n",
        "1\n",
        "N\n",
        "x\n",
        "i\n",
        "s\n",
        "2\n",
        "=\n",
        "1\n",
        "N\n",
        "−\n",
        "1\n",
        "∑\n",
        "i\n",
        "=\n",
        "1\n",
        "N\n",
        "(\n",
        "x\n",
        "i\n",
        "−m\n",
        ")\n",
        "2\n",
        ". \n",
        " \n",
        "\n",
        "The symbol  ∑\n",
        "∑\n",
        "  means to add up all the values in this range for the variable specified. In other words, take the value where  𝑖=1\n",
        "i\n",
        "=\n",
        "1\n",
        " , add the value where  𝑖=2\n",
        "i\n",
        "=\n",
        "2\n",
        " , and so on until  𝑖=𝑁\n",
        "i\n",
        "=\n",
        "N\n",
        " . So the arithmetic mean can be explained in words as: add up all the values in the list, then divide by the total number of values ( 𝑁\n",
        "N\n",
        " ). For the variance you need to subtract the mean from each value and square the result, add this up, then divide by  𝑁−1\n",
        "N\n",
        "−\n",
        "1\n",
        " . You are welcome to use mathematically equivalent reformulations if you prefer (and it may be more efficient to do so), just ensure you match the outputs of these formulas exactly.\n",
        "\n",
        "You must do the calculations manually, do not use inbuilt functions like sum, any math functions, etc."
      ]
    },
    {
      "cell_type": "code",
      "metadata": {
        "id": "lklp5WADKkko"
      },
      "source": [
        "def mean_variance(numbers):\n",
        "    "
      ],
      "execution_count": null,
      "outputs": []
    },
    {
      "cell_type": "code",
      "metadata": {
        "id": "p4EfJGb3K6FS"
      },
      "source": [
        "assert(mean_variance([1, 2, 3]) == (2, 1))"
      ],
      "execution_count": null,
      "outputs": []
    }
  ]
}