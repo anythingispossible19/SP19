{
  "nbformat": 4,
  "nbformat_minor": 0,
  "metadata": {
    "colab": {
      "name": "Untitled27.ipynb",
      "provenance": [],
      "authorship_tag": "ABX9TyPk5wZ/J8rZNOkiSHZyYlcM",
      "include_colab_link": true
    },
    "kernelspec": {
      "name": "python3",
      "display_name": "Python 3"
    }
  },
  "cells": [
    {
      "cell_type": "markdown",
      "metadata": {
        "id": "view-in-github",
        "colab_type": "text"
      },
      "source": [
        "<a href=\"https://colab.research.google.com/github/anythingispossible19/SP19/blob/master/Question6_exercise_sheet2_30_09_20.ipynb\" target=\"_parent\"><img src=\"https://colab.research.google.com/assets/colab-badge.svg\" alt=\"Open In Colab\"/></a>"
      ]
    },
    {
      "cell_type": "markdown",
      "metadata": {
        "id": "kwncKA9TKyUz"
      },
      "source": [
        "Write a function which takes a list of numbers of length\n",
        "≥\n",
        "2\n",
        " , and returns a tuple containing the arithmetic mean and the unbiased sample variance of those numbers.\n",
        "\n",
        "i.e. given a list of items  [𝑥1,𝑥2,…,𝑥𝑁]\n",
        "[\n",
        "x\n",
        "1\n",
        ",\n",
        "x\n",
        "2\n",
        ",\n",
        "…\n",
        ",\n",
        "x\n",
        "N\n",
        "]\n",
        " , return a tuple  (𝑚,𝑠2)\n",
        "(\n",
        "m\n",
        ",\n",
        "s\n",
        "2\n",
        ")\n",
        "  where:\n",
        "\n",
        "𝑚𝑠2=1𝑁∑𝑖=1𝑁𝑥𝑖=1𝑁−1∑𝑖=1𝑁(𝑥𝑖−𝑚)2.\n",
        "m\t=\n",
        "1\n",
        "N\n",
        "∑\n",
        "i\n",
        "=\n",
        "1\n",
        "N\n",
        "x\n",
        "i\n",
        "s\n",
        "2\n",
        "=\n",
        "1\n",
        "N\n",
        "−\n",
        "1\n",
        "∑\n",
        "i\n",
        "=\n",
        "1\n",
        "N\n",
        "(\n",
        "x\n",
        "i\n",
        "−m\n",
        ")\n",
        "2\n",
        ". \n",
        " \n",
        "\n",
        "The symbol  ∑\n",
        "∑\n",
        "  means to add up all the values in this range for the variable specified. In other words, take the value where  𝑖=1\n",
        "i\n",
        "=\n",
        "1\n",
        " , add the value where  𝑖=2\n",
        "i\n",
        "=\n",
        "2\n",
        " , and so on until  𝑖=𝑁\n",
        "i\n",
        "=\n",
        "N\n",
        " . So the arithmetic mean can be explained in words as: add up all the values in the list, then divide by the total number of values ( 𝑁\n",
        "N\n",
        " ). For the variance you need to subtract the mean from each value and square the result, add this up, then divide by  𝑁−1\n",
        "N\n",
        "−\n",
        "1\n",
        " . You are welcome to use mathematically equivalent reformulations if you prefer (and it may be more efficient to do so), just ensure you match the outputs of these formulas exactly.\n",
        "\n",
        "You must do the calculations manually, do not use inbuilt functions like sum, any math functions, etc."
      ]
    },
    {
      "cell_type": "code",
      "metadata": {
        "id": "lklp5WADKkko",
        "outputId": "ed9cd390-e308-4fab-938b-f73bb1ce6c0f",
        "colab": {
          "base_uri": "https://localhost:8080/",
          "height": 34
        }
      },
      "source": [
        "def mean_variance(numbers):\n",
        "    #add numbers together\n",
        "    i=0\n",
        "    j=0\n",
        "    sum_numbers=0\n",
        "    variance_numbers=0\n",
        "    \n",
        "    while i < (len(numbers)):\n",
        "      sum_numbers=sum_numbers+numbers[i]\n",
        "      i=i+1\n",
        "    average = sum_numbers/len(numbers)\n",
        "\n",
        "    while j < (len(numbers)):\n",
        "      variance_numbers=variance_numbers+((numbers[j]-average)**2)\n",
        "      j=j+1\n",
        "    variance = variance_numbers/(len(numbers)-1)\n",
        " \n",
        "    return (average,variance)\n",
        "    #return is the function's output\n",
        "\n",
        "mean_variance([1, 2, 3])"
      ],
      "execution_count": 4,
      "outputs": [
        {
          "output_type": "execute_result",
          "data": {
            "text/plain": [
              "(2.0, 1.0)"
            ]
          },
          "metadata": {
            "tags": []
          },
          "execution_count": 4
        }
      ]
    },
    {
      "cell_type": "code",
      "metadata": {
        "id": "p4EfJGb3K6FS",
        "outputId": "7efdd6cf-134d-4832-e1fa-3d2dcca301ff",
        "colab": {
          "base_uri": "https://localhost:8080/",
          "height": 34
        }
      },
      "source": [
        "mean_variance([1, 2, 3]) "
      ],
      "execution_count": 7,
      "outputs": [
        {
          "output_type": "execute_result",
          "data": {
            "text/plain": [
              "(2.0, 1.0)"
            ]
          },
          "metadata": {
            "tags": []
          },
          "execution_count": 7
        }
      ]
    }
  ]
}