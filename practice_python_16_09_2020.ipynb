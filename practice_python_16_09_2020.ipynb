{
  "nbformat": 4,
  "nbformat_minor": 0,
  "metadata": {
    "colab": {
      "name": "Untitled0.ipynb",
      "provenance": [],
      "authorship_tag": "ABX9TyMvvAGz8C1FKEqwlfHSCPxx",
      "include_colab_link": true
    },
    "kernelspec": {
      "name": "python3",
      "display_name": "Python 3"
    }
  },
  "cells": [
    {
      "cell_type": "markdown",
      "metadata": {
        "id": "view-in-github",
        "colab_type": "text"
      },
      "source": [
        "<a href=\"https://colab.research.google.com/github/anythingispossible19/SP19/blob/master/practice_python_16_09_2020.ipynb\" target=\"_parent\"><img src=\"https://colab.research.google.com/assets/colab-badge.svg\" alt=\"Open In Colab\"/></a>"
      ]
    },
    {
      "cell_type": "markdown",
      "metadata": {
        "id": "HjubnSGSitXx",
        "colab_type": "text"
      },
      "source": [
        "Write a function that takes a single number, adds 3 to that number, then multiplies the result by 2, then subtracts 4, then subtracts twice the original number, then adds 3, and returns the result."
      ]
    },
    {
      "cell_type": "code",
      "metadata": {
        "id": "ODykg9CcgoJd",
        "colab_type": "code",
        "colab": {
          "base_uri": "https://localhost:8080/",
          "height": 34
        },
        "outputId": "852d656c-620a-4cde-f325-9e97c80b434e"
      },
      "source": [
        "def process_number(x):\n",
        "    a = x + 3\n",
        "    b = (a * 2) - 4\n",
        "    c = b - (2 * x) + 3\n",
        "    return c\n",
        "    \n",
        "#     raise NotImplementedError()\n",
        "process_number(56)"
      ],
      "execution_count": 8,
      "outputs": [
        {
          "output_type": "execute_result",
          "data": {
            "text/plain": [
              "5"
            ]
          },
          "metadata": {
            "tags": []
          },
          "execution_count": 8
        }
      ]
    },
    {
      "cell_type": "code",
      "metadata": {
        "id": "0icmGywwh7Lb",
        "colab_type": "code",
        "colab": {}
      },
      "source": [
        "assert(process_number(6) == 5)"
      ],
      "execution_count": 4,
      "outputs": []
    },
    {
      "cell_type": "code",
      "metadata": {
        "id": "MfNHjoyVjsvz",
        "colab_type": "code",
        "colab": {
          "base_uri": "https://localhost:8080/",
          "height": 51
        },
        "outputId": "56a6003c-910f-4aa0-b3c1-cf2da5fb2bf8"
      },
      "source": [
        "#take input from user\n",
        "cm=int(input(\"Enter the height in centimeters:\"))\n",
        " \n",
        "#convert centimeter to feet\n",
        "feet=0.0328*cm\n",
        " \n",
        "#print result\n",
        "print(\"The length in feet\",round(feet,2))"
      ],
      "execution_count": 9,
      "outputs": [
        {
          "output_type": "stream",
          "text": [
            "Enter the height in centimeters:171\n",
            "The length in feet 5.61\n"
          ],
          "name": "stdout"
        }
      ]
    },
    {
      "cell_type": "code",
      "metadata": {
        "id": "qWOlH7xuju69",
        "colab_type": "code",
        "colab": {
          "base_uri": "https://localhost:8080/",
          "height": 34
        },
        "outputId": "fa9b2433-e483-4292-816c-44efc5f5f9ed"
      },
      "source": [
        "def centimetres_to_feet(cm):\n",
        "    feet = cm * 0.0328\n",
        "    # feet = round(feet,2)\n",
        "    return feet\n",
        "\n",
        "\n",
        "centimetres_to_feet(10)"
      ],
      "execution_count": 12,
      "outputs": [
        {
          "output_type": "execute_result",
          "data": {
            "text/plain": [
              "0.328"
            ]
          },
          "metadata": {
            "tags": []
          },
          "execution_count": 12
        }
      ]
    },
    {
      "cell_type": "code",
      "metadata": {
        "id": "DovHwMApnafk",
        "colab_type": "code",
        "colab": {
          "base_uri": "https://localhost:8080/",
          "height": 34
        },
        "outputId": "b7105bef-6141-4ecf-fc7b-add155913b4a"
      },
      "source": [
        "# After the following code is executed:\n",
        "def dog(fox):\n",
        "    pig = 0\n",
        "    for i in range(8):\n",
        "        pig += i % fox\n",
        "    return pig\n",
        "\n",
        "\n",
        "dog(2)\n"
      ],
      "execution_count": 16,
      "outputs": [
        {
          "output_type": "execute_result",
          "data": {
            "text/plain": [
              "4"
            ]
          },
          "metadata": {
            "tags": []
          },
          "execution_count": 16
        }
      ]
    },
    {
      "cell_type": "code",
      "metadata": {
        "id": "eV2iRGRbndgs",
        "colab_type": "code",
        "colab": {
          "base_uri": "https://localhost:8080/",
          "height": 34
        },
        "outputId": "8befce9f-2062-4850-d0a8-79b72970b9fd"
      },
      "source": [
        "pig = pig + i % fox"
      ],
      "execution_count": 14,
      "outputs": [
        {
          "output_type": "execute_result",
          "data": {
            "text/plain": [
              "range(0, 8)"
            ]
          },
          "metadata": {
            "tags": []
          },
          "execution_count": 14
        }
      ]
    },
    {
      "cell_type": "code",
      "metadata": {
        "id": "_eYNupJEoq01",
        "colab_type": "code",
        "colab": {
          "base_uri": "https://localhost:8080/",
          "height": 37
        },
        "outputId": "1f19863b-a221-4aab-baec-8d3bb24a3999"
      },
      "source": [
        "def pig(egg):\n",
        "    dog = \"\"\n",
        "    while len(egg) > 0:\n",
        "        dog = dog + egg[-1]\n",
        "        egg = egg[:-1]\n",
        "    return dog\n",
        "\n",
        "# What is the result of the expression below?\n",
        "pig(\"Adam\")\n",
        "# >>>I give up\n",
        "# The solution is:\n",
        "\t# \"hsif\""
      ],
      "execution_count": 18,
      "outputs": [
        {
          "output_type": "execute_result",
          "data": {
            "application/vnd.google.colaboratory.intrinsic+json": {
              "type": "string"
            },
            "text/plain": [
              "'madA'"
            ]
          },
          "metadata": {
            "tags": []
          },
          "execution_count": 18
        }
      ]
    },
    {
      "cell_type": "markdown",
      "metadata": {
        "id": "bxOUKSHhpeMK",
        "colab_type": "text"
      },
      "source": [
        ""
      ]
    }
  ]
}