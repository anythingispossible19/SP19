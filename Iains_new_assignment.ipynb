{
  "nbformat": 4,
  "nbformat_minor": 0,
  "metadata": {
    "colab": {
      "name": "Untitled46.ipynb",
      "provenance": [],
      "authorship_tag": "ABX9TyMO6Lf0HTE4L+UAFcJ5+UJb",
      "include_colab_link": true
    },
    "kernelspec": {
      "name": "python3",
      "display_name": "Python 3"
    }
  },
  "cells": [
    {
      "cell_type": "markdown",
      "metadata": {
        "id": "view-in-github",
        "colab_type": "text"
      },
      "source": [
        "<a href=\"https://colab.research.google.com/github/anythingispossible19/SP19/blob/master/Iains_new_assignment.ipynb\" target=\"_parent\"><img src=\"https://colab.research.google.com/assets/colab-badge.svg\" alt=\"Open In Colab\"/></a>"
      ]
    },
    {
      "cell_type": "code",
      "metadata": {
        "id": "Ba6dsbevlWCO"
      },
      "source": [
        "def rot13(txt, excl=[' ', '.', ',', '!', '?', ':', ';']):\n",
        "    \"\"\"\n",
        "    This is the ROT13 cipher for uppercase text strings. By default it should \n",
        "    ignore all characters in the list excl=[' ', '.', ',', '!', '?', ':', ';'].\n",
        "    \"\"\"\n",
        "    # PSEUDOCODE:\n",
        "    # For each character in txt \n",
        "        # Get ASCII representation\n",
        "        # Is it upper case A-Z? \n",
        "        # Do we ignore this character, i.e. is it in excl?\n",
        "        # Process character if above conditions met\n",
        "        # Concatenate to a 'result' variable     \n",
        "    # Return 'result' variable \n",
        "        \n",
        "# Main program (uppercase letters only):\n",
        "msg = \"TALK IS CHEAP. SHOW ME THE CODE!\"\n",
        "print(rot13(msg))\n",
        "print(rot13(rot13(msg)))"
      ],
      "execution_count": null,
      "outputs": []
    },
    {
      "cell_type": "code",
      "metadata": {
        "id": "JPdCNCkyNQuO"
      },
      "source": [
        "def rot13(txt, excl=[' ', '.', ',', '!', '?', ':', ';']):\n",
        "  "
      ],
      "execution_count": null,
      "outputs": []
    },
    {
      "cell_type": "code",
      "metadata": {
        "id": "1iUfbNjzOexk"
      },
      "source": [
        "n = (nold - 65 + 13) % 26 + 65\n",
        "print(n)"
      ],
      "execution_count": null,
      "outputs": []
    },
    {
      "cell_type": "code",
      "metadata": {
        "id": "ftS1b1mGgRWl",
        "outputId": "9716dc2a-2a31-47e4-ef6f-00e6e5e17e1d",
        "colab": {
          "base_uri": "https://localhost:8080/",
          "height": 37
        }
      },
      "source": [
        "# This seems to work\n",
        "import codecs \n",
        "codecs.encode(\"Hello\", 'Rot_13')"
      ],
      "execution_count": 10,
      "outputs": [
        {
          "output_type": "execute_result",
          "data": {
            "application/vnd.google.colaboratory.intrinsic+json": {
              "type": "string"
            },
            "text/plain": [
              "'Uryyb'"
            ]
          },
          "metadata": {
            "tags": []
          },
          "execution_count": 10
        }
      ]
    },
    {
      "cell_type": "code",
      "metadata": {
        "id": "uG5b0ucwg1eE"
      },
      "source": [
        ""
      ],
      "execution_count": null,
      "outputs": []
    }
  ]
}