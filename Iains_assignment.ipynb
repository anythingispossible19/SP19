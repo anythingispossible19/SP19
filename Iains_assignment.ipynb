{
  "nbformat": 4,
  "nbformat_minor": 0,
  "metadata": {
    "colab": {
      "name": "Untitled46.ipynb",
      "provenance": [],
      "authorship_tag": "ABX9TyOV7m0WoCCEw5IjzoCxTar0",
      "include_colab_link": true
    },
    "kernelspec": {
      "name": "python3",
      "display_name": "Python 3"
    }
  },
  "cells": [
    {
      "cell_type": "markdown",
      "metadata": {
        "id": "view-in-github",
        "colab_type": "text"
      },
      "source": [
        "<a href=\"https://colab.research.google.com/github/anythingispossible19/SP19/blob/master/Iains_assignment.ipynb\" target=\"_parent\"><img src=\"https://colab.research.google.com/assets/colab-badge.svg\" alt=\"Open In Colab\"/></a>"
      ]
    },
    {
      "cell_type": "code",
      "metadata": {
        "id": "Ba6dsbevlWCO"
      },
      "source": [
        "def rot13(txt, excl=[' ', '.', ',', '!', '?', ':', ';']):\n",
        "    \"\"\"\n",
        "    This is the ROT13 cipher for uppercase text strings. By default it should \n",
        "    ignore all characters in the list excl=[' ', '.', ',', '!', '?', ':', ';'].\n",
        "    \"\"\"\n",
        "    # PSEUDOCODE:\n",
        "    # For each character in txt \n",
        "        # Get ASCII representation\n",
        "        # Is it upper case A-Z? \n",
        "        # Do we ignore this character, i.e. is it in excl?\n",
        "        # Process character if above conditions met\n",
        "        # Concatenate to a 'result' variable     \n",
        "    # Return 'result' variable \n",
        "        \n",
        "# Main program (uppercase letters only):\n",
        "msg = \"TALK IS CHEAP. SHOW ME THE CODE!\"\n",
        "print(rot13(msg))\n",
        "print(rot13(rot13(msg)))"
      ],
      "execution_count": null,
      "outputs": []
    },
    {
      "cell_type": "code",
      "metadata": {
        "id": "JPdCNCkyNQuO"
      },
      "source": [
        "def rot13(txt, excl=[' ', '.', ',', '!', '?', ':', ';']):\n",
        "  "
      ],
      "execution_count": null,
      "outputs": []
    },
    {
      "cell_type": "code",
      "metadata": {
        "id": "1iUfbNjzOexk",
        "outputId": "41794dad-639a-4216-c03d-9cd9768a66a6",
        "colab": {
          "base_uri": "https://localhost:8080/",
          "height": 130
        }
      },
      "source": [
        "n = (nold - 65 + 13) % 26 + 65\n",
        "print(n)"
      ],
      "execution_count": 2,
      "outputs": [
        {
          "output_type": "error",
          "ename": "SyntaxError",
          "evalue": "ignored",
          "traceback": [
            "\u001b[0;36m  File \u001b[0;32m\"<ipython-input-2-5b2039c49560>\"\u001b[0;36m, line \u001b[0;32m1\u001b[0m\n\u001b[0;31m    \"n\" = (nold - 65 + 13) % 26 + 65\u001b[0m\n\u001b[0m                                    ^\u001b[0m\n\u001b[0;31mSyntaxError\u001b[0m\u001b[0;31m:\u001b[0m can't assign to literal\n"
          ]
        }
      ]
    },
    {
      "cell_type": "code",
      "metadata": {
        "id": "7Im1rjNWOoW1"
      },
      "source": [
        ""
      ],
      "execution_count": null,
      "outputs": []
    }
  ]
}