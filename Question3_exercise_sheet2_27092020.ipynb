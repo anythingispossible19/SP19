{
  "nbformat": 4,
  "nbformat_minor": 0,
  "metadata": {
    "colab": {
      "name": "Untitled17.ipynb",
      "provenance": [],
      "collapsed_sections": [],
      "authorship_tag": "ABX9TyNnB96wOX2nhy/fsTovnkWv",
      "include_colab_link": true
    },
    "kernelspec": {
      "name": "python3",
      "display_name": "Python 3"
    }
  },
  "cells": [
    {
      "cell_type": "markdown",
      "metadata": {
        "id": "view-in-github",
        "colab_type": "text"
      },
      "source": [
        "<a href=\"https://colab.research.google.com/github/anythingispossible19/SP19/blob/master/Question3_exercise_sheet2_27092020.ipynb\" target=\"_parent\"><img src=\"https://colab.research.google.com/assets/colab-badge.svg\" alt=\"Open In Colab\"/></a>"
      ]
    },
    {
      "cell_type": "markdown",
      "metadata": {
        "id": "8jANdDVzgr9-"
      },
      "source": [
        "Given two lists [a1, a2, a3, …] and [b1, b2, b3, …] of the same length, return a list containing pairs of items as tuples by position: a tuple containing the first item from each list, a tuple containing the second item, and so on. In other words, return [(a1, b1), (a2, b2), …]."
      ]
    },
    {
      "cell_type": "code",
      "metadata": {
        "id": "y3C71h3NgMXS"
      },
      "source": [
        "# def merge(list1, list2):\n",
        "list1 = ['a1', 'a2', 'a3']\n",
        "list2 = ['b1', 'b2', 'b3']\n",
        "x = list1[0] + list2[0]\n",
        "y = list1[1] + list2[1]\n",
        "z = list1[2] + list2[2]\n",
        "# input(1, 2)\n",
        "# print(x, y, z)\n",
        "# print(merge([1, 2], [3, 4]))"
      ],
      "execution_count": null,
      "outputs": []
    },
    {
      "cell_type": "code",
      "metadata": {
        "id": "44Gwb9b9gw1O"
      },
      "source": [
        "assert(merge([1, 2], [3, 4]) == [(1, 3), (2, 4)])"
      ],
      "execution_count": null,
      "outputs": []
    },
    {
      "cell_type": "code",
      "metadata": {
        "id": "ZTQHk32OiV3i",
        "outputId": "8c358294-4af1-4a2a-bcff-9aa7a2f2cf9c",
        "colab": {
          "base_uri": "https://localhost:8080/",
          "height": 34
        }
      },
      "source": [
        "my_list = ['h', \"e\", \"l\", \"l\", \"o\"]\n",
        "my_list[-1:-5] = 'o', 'l', 'l', 'e', 'h'\n",
        "print(my_list)"
      ],
      "execution_count": 1,
      "outputs": [
        {
          "output_type": "stream",
          "text": [
            "['h', 'e', 'l', 'l', 'o', 'l', 'l', 'e', 'h', 'o']\n"
          ],
          "name": "stdout"
        }
      ]
    },
    {
      "cell_type": "code",
      "metadata": {
        "id": "-p3rZ-vLpNGG",
        "outputId": "61e561c9-5b03-4adf-9fb8-b89fb369bcc8",
        "colab": {
          "base_uri": "https://localhost:8080/",
          "height": 34
        }
      },
      "source": [
        "# point = 2, 4\n",
        "# type(point)\n",
        "2,"
      ],
      "execution_count": 14,
      "outputs": [
        {
          "output_type": "execute_result",
          "data": {
            "text/plain": [
              "(2,)"
            ]
          },
          "metadata": {
            "tags": []
          },
          "execution_count": 14
        }
      ]
    },
    {
      "cell_type": "code",
      "metadata": {
        "id": "7NVfm7PKpO7w",
        "outputId": "320f5c6a-f038-42f1-85a4-679ce0577482",
        "colab": {
          "base_uri": "https://localhost:8080/",
          "height": 34
        }
      },
      "source": [
        "# def merge(list1, list2):\n",
        "list1 = ['a1', 'a2', 'a3']\n",
        "list2 = ['b1', 'b2', 'b3']\n",
        "x = [(list1[0] + list2[0])]\n",
        "y = [(list1[1] + list2[1])]\n",
        "z = [(list1[2] + list2[2])]\n",
        "\n",
        "print(x, y, z)"
      ],
      "execution_count": 1,
      "outputs": [
        {
          "output_type": "stream",
          "text": [
            "['a1b1'] ['a2b2'] ['a3b3']\n"
          ],
          "name": "stdout"
        }
      ]
    },
    {
      "cell_type": "code",
      "metadata": {
        "id": "4NhYApBXxgqB"
      },
      "source": [
        "def merge(list1, list2):\n",
        "  list1 = ['a1', 'a2', 'a3']\n",
        "  list2 = ['b1', 'b2', 'b3']\n",
        "  pair1 = [(list1[0] + list2[0])]\n",
        "  pair2 = [(list1[1] + list2[1])]\n",
        "  pair3 = [(list1[2] + list2[2])]\n",
        "  merge = pair1, pair2, pair3\n",
        "  return merge(list1, list2)"
      ],
      "execution_count": 34,
      "outputs": []
    },
    {
      "cell_type": "code",
      "metadata": {
        "id": "1onabZRNyQQd"
      },
      "source": [
        "def square_each_element(in_list):\n",
        "    for i, item in enumerate(in_list):\n",
        "        in_list[i] = item ** 2\n",
        "\n",
        "my_list = [2, -2, 5, 10]\n",
        "square_each_element(my_list)\n",
        "my_list"
      ],
      "execution_count": null,
      "outputs": []
    },
    {
      "cell_type": "code",
      "metadata": {
        "id": "lUxNHIUMENDI"
      },
      "source": [
        "def merge(list1, list2):\n",
        "  for i, item in enumerate(merge(list1, list2))\n",
        "  x = ['a1', 'a2', 'a3']\n",
        "  y = ['b1', 'b2', 'b3']\n",
        "  list1 = \n"
      ],
      "execution_count": null,
      "outputs": []
    }
  ]
}