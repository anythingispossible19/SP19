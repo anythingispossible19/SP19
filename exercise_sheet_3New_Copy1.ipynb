{
  "nbformat": 4,
  "nbformat_minor": 0,
  "metadata": {
    "kernelspec": {
      "display_name": "Python 3",
      "language": "python",
      "name": "python3"
    },
    "language_info": {
      "codemirror_mode": {
        "name": "ipython",
        "version": 3
      },
      "file_extension": ".py",
      "mimetype": "text/x-python",
      "name": "python",
      "nbconvert_exporter": "python",
      "pygments_lexer": "ipython3",
      "version": "3.8.3"
    },
    "colab": {
      "name": "exercise-sheet-3New-Copy1.ipynb",
      "provenance": [],
      "include_colab_link": true
    }
  },
  "cells": [
    {
      "cell_type": "markdown",
      "metadata": {
        "id": "view-in-github",
        "colab_type": "text"
      },
      "source": [
        "<a href=\"https://colab.research.google.com/github/anythingispossible19/SP19/blob/master/exercise_sheet_3New_Copy1.ipynb\" target=\"_parent\"><img src=\"https://colab.research.google.com/assets/colab-badge.svg\" alt=\"Open In Colab\"/></a>"
      ]
    },
    {
      "cell_type": "markdown",
      "metadata": {
        "deletable": false,
        "editable": false,
        "nbgrader": {
          "cell_type": "markdown",
          "checksum": "ec57bc42866c0e3ec4cb81285da7bcf4",
          "grade": false,
          "grade_id": "cell-06eb0ab990e028e8",
          "locked": true,
          "schema_version": 3,
          "solution": false,
          "task": false
        },
        "id": "jJjj3ne-OqmA"
      },
      "source": [
        "# Exercise Sheet 3\n",
        "## Instructions\n",
        "The instructions for this exercise sheet are the same as the previous, so this section is just a summary to serve as a reminder. Refer to the material on Engage and at the start of Exercise Sheet 1 for more detail, and if you are unsure ask on the Q&A forum.\n",
        "\n",
        "This exercise sheet counts towards your overall grade for the unit.\n",
        "\n",
        "Complete each question in the code cell provided, which will usually contain some skeleton code to help you start the question. Unless specified otherwise you may change the skeleton code as you wish, but your code must pass the formatting tests in the following code cell – if the cell runs without errors then your code is eligible for submission. However these will only test the basics of the question. Your code will be subject to additional hidden tests which will determine your grade. Make sure you thoroughly test your own code to check you think it works correctly before submission.\n",
        "\n",
        "**Note**: some of these exercises require manipulation of files. Provided you only modify the files as the exercises instruct you to, you should not have any compatibility problems. However errors might occur if you make a mistake and edit a file that we are only expecting you to read. So you may wish to test your code works with a fresh copy of the default files from Engage. You can entirely replace the contents of the folder called `exercise-files` with a fresh copy. You still only need to submit this `.ipynb` file when you are done, no extra files."
      ]
    },
    {
      "cell_type": "markdown",
      "metadata": {
        "deletable": false,
        "editable": false,
        "nbgrader": {
          "cell_type": "markdown",
          "checksum": "4a89201fc7503cd34f1817b45d72fd3a",
          "grade": false,
          "grade_id": "cell-7e59df00e92786be",
          "locked": true,
          "schema_version": 3,
          "solution": false,
          "task": false
        },
        "id": "OwEoMjrzOqmB"
      },
      "source": [
        "## Questions\n",
        "### Question 1\n",
        "In the UK, the National Lottery requires you to pick 6 numbers from 1 to 59 inclusive. There is a well known formula for calculating how many ways you can draw $x$ values from $y$ possible values, these are called [combinations](https://en.wikipedia.org/wiki/Combination). \n",
        "\n",
        "For this exercise, write a function which takes two positive integers `x` and `y`, where $x\\le y$, and returns the probability of winning the lottery jackpot, for `x` balls which are drawn from values `1-y` inclusive. The probability is equal to 1 divided by the number of possible combinations for that many balls.\n",
        "\n",
        "*Rather than calculate this manually, you are encouraged to use the* [`math`](https://docs.python.org/3/library/math.html) *module.*"
      ]
    },
    {
      "cell_type": "code",
      "metadata": {
        "deletable": false,
        "nbgrader": {
          "cell_type": "code",
          "checksum": "43567cd2411a831287bfbe72be87c4c1",
          "grade": false,
          "grade_id": "cell-c58008015c7f239d",
          "locked": false,
          "schema_version": 3,
          "solution": true,
          "task": false
        },
        "id": "wl9Ceh1dOqmD"
      },
      "source": [
        "from math import comb\n",
        "\n",
        "def lottery_probability(x, y):\n",
        "    \n",
        "    #math.comb(n, k)\n",
        "    #Return the number of ways to choose k items from n items without repetition and without order.\n",
        "    #Evaluates to n! / (k! * (n - k)!) when k <= n and evaluates to zero when k > n.\n",
        "    #https://docs.python.org/3/library/math.html  \n",
        "    combinations = comb(y, x)\n",
        "    \n",
        "    # return probability of a winning selection \n",
        "    return 1 / combinations\n"
      ],
      "execution_count": null,
      "outputs": []
    },
    {
      "cell_type": "code",
      "metadata": {
        "deletable": false,
        "editable": false,
        "nbgrader": {
          "cell_type": "code",
          "checksum": "55f0653e93b47d00baa113a8b1279f32",
          "grade": true,
          "grade_id": "cell-0f04eb504a1079d4",
          "locked": true,
          "points": 20,
          "schema_version": 3,
          "solution": false,
          "task": false
        },
        "id": "A7oJmwyfOqmJ"
      },
      "source": [
        "assert(lottery_probability(6, 59) == 1/45057474)"
      ],
      "execution_count": null,
      "outputs": []
    },
    {
      "cell_type": "markdown",
      "metadata": {
        "id": "x5YjUzTYOqmN"
      },
      "source": [
        "### Question 2\n",
        "Write a function that takes two integers `x` and `y` and returns a list containing every possible *combination* of lottery draw as a tuple, where the lottery draws `x` balls with the values `1-y` inclusive.\n",
        "\n",
        "So, if you set `x=6` and `y=59`, you should return a list of length 45057474, where each item is a different possible lottery draw, e.g. `(1, 2, 3, 4, 5, 6)` is one such draw. Order does not matter, so `(2, 3, 4, 5, 6, 1)` is considered the same draw.\n",
        "\n",
        "*Rather than calculate this manually, you are encouraged to use the* [`itertools`](https://docs.python.org/3/library/itertools.html) *module.*"
      ]
    },
    {
      "cell_type": "code",
      "metadata": {
        "deletable": false,
        "nbgrader": {
          "cell_type": "code",
          "checksum": "79744d952185c5d573763cbe936acf76",
          "grade": false,
          "grade_id": "cell-dddb8c4b6c7f9884",
          "locked": false,
          "schema_version": 3,
          "solution": true,
          "task": false
        },
        "id": "a0-FIIZCOqmO"
      },
      "source": [
        "from itertools import combinations \n",
        "\n",
        "def all_lottery_draws(x, y):    \n",
        "   \n",
        "    rangeData = range(1, y + 1)\n",
        "        \n",
        "    #combinations(iterable, r)\n",
        "    #Return r length subsequences of elements from the input iterable.\n",
        "    #https://docs.python.org/3/library/itertools.html\n",
        "    combinationData = list(combinations(rangeData, x))    \n",
        "    return combinationData"
      ],
      "execution_count": null,
      "outputs": []
    },
    {
      "cell_type": "code",
      "metadata": {
        "deletable": false,
        "editable": false,
        "nbgrader": {
          "cell_type": "code",
          "checksum": "3e13aaf41bc52912267bc39478dfb9fd",
          "grade": true,
          "grade_id": "cell-a86a034f0371c48b",
          "locked": true,
          "points": 20,
          "schema_version": 3,
          "solution": false,
          "task": false
        },
        "id": "N7rMehEoOqmQ"
      },
      "source": [
        "assert(all_lottery_draws(2, 3) == [(1, 2), (1, 3), (2, 3)])"
      ],
      "execution_count": null,
      "outputs": []
    },
    {
      "cell_type": "markdown",
      "metadata": {
        "deletable": false,
        "editable": false,
        "nbgrader": {
          "cell_type": "markdown",
          "checksum": "83afed09c8d5807a7e71c8f9688d6aff",
          "grade": false,
          "grade_id": "cell-8d1bab01f2f5b8f7",
          "locked": true,
          "schema_version": 3,
          "solution": false,
          "task": false
        },
        "id": "mMYQ_MHgOqmT"
      },
      "source": [
        "### Question 3\n",
        "In the code below, the programmer has tried to write a function which accepts a two-dimensional list representing a mathematical matrix and a number, where the purpose of the function is to return a new list with each element multiplied by that number.\n",
        "\n",
        "Unfortunately, the code does not work as you would expect. First of all, run the function – you can use the given test case to work out why the results are wrong. Then, find and fix the error.\n",
        "\n",
        "Feel free to search online to find clues for why this is not working, although you have seen an explanation of the mechanics in the unit material. You may wish to use an additional module in your solution to fix the error, and you are in fact encouraged to do so, but you must work out what the module is for yourself!"
      ]
    },
    {
      "cell_type": "code",
      "metadata": {
        "deletable": false,
        "nbgrader": {
          "cell_type": "code",
          "checksum": "0b578911ed55e3ae45070215780209c5",
          "grade": false,
          "grade_id": "cell-e99128cf596349bc",
          "locked": false,
          "schema_version": 3,
          "solution": true,
          "task": false
        },
        "id": "SnK9uVpsOqmT"
      },
      "source": [
        "import copy\n",
        "\n",
        "def matrix_scale(matrix, x):    \n",
        "    # deep copy needed, as matrix variable is updated using shallow matrix.copy() function \n",
        "    new_matrix = copy.deepcopy(matrix)   \n",
        "    \n",
        "    for i in range(len(matrix)):       \n",
        "        for j in range(len(matrix[i])):           \n",
        "            new_matrix[i][j] = new_matrix[i][j] * x\n",
        "           \n",
        "    return new_matrix"
      ],
      "execution_count": null,
      "outputs": []
    },
    {
      "cell_type": "code",
      "metadata": {
        "deletable": false,
        "editable": false,
        "nbgrader": {
          "cell_type": "code",
          "checksum": "16b526235769272bacc430bd7b76c6a2",
          "grade": true,
          "grade_id": "cell-03851bb5a2450311",
          "locked": true,
          "points": 20,
          "schema_version": 3,
          "solution": false,
          "task": false
        },
        "id": "H8Vwa6uvOqmV"
      },
      "source": [
        "my_matrix = [[1, 0, 0],\n",
        "             [0, 1, 0],\n",
        "             [0, 0, 1]]\n",
        "\n",
        "double = matrix_scale(my_matrix, 2)\n",
        "negation = matrix_scale(my_matrix, -1)\n",
        "\n",
        "assert(double == [[2, 0, 0], [0, 2, 0], [0, 0, 2]])\n",
        "assert(negation == [[-1, 0, 0], [0, -1, 0], [0, 0, -1]])\n"
      ],
      "execution_count": null,
      "outputs": []
    },
    {
      "cell_type": "markdown",
      "metadata": {
        "id": "IWwMS0DXOqmW"
      },
      "source": [
        "### Question 4\n",
        "Write a function which takes two strings, which are both filenames for existing text files. Your function should compare the two files' contents, and return a list containing every line number where the files are different. Start numbering the files from 1 (the first line is line 1). If one file is longer than the other, every line not present should be considered unequal. If the files are identical, return an empty list. \n",
        "\n",
        "Note: in the unit material, we showed a file which did not end in a linefeed character on its final line, but this is generally considered bad form, all text files should be terminated by a linefeed. All inputs to your function *will* terminate in a linefeed character, but either way you do not need to worry about an \"empty line\" at the end of the file."
      ]
    },
    {
      "cell_type": "code",
      "metadata": {
        "deletable": false,
        "nbgrader": {
          "cell_type": "code",
          "checksum": "8aa7a4b4f3d4bd567637b1789849a39a",
          "grade": false,
          "grade_id": "cell-79f41a862640b444",
          "locked": false,
          "schema_version": 3,
          "solution": true,
          "task": false
        },
        "id": "lB9M1dasOqmW"
      },
      "source": [
        "def diff(filename1, filename2):\n",
        "        \n",
        "    master_file = open(filename1).read()\n",
        "    compare_file = open(filename2).read()\n",
        "\n",
        "    lines_master = master_file.splitlines()       \n",
        "    lines_compare = compare_file.splitlines()\n",
        "    \n",
        "    different_lines = [] #A list type here is used to collect the line numbers  \n",
        "    \n",
        "    #Python enumerate() function can be used to iterate the list in an optimized manner. \n",
        "    #The enumerate() function adds a counter to the list or any other iterable and returns \n",
        "    #it as an enumerate object by the function. \n",
        "    #Thus, it reduces the overhead of keeping a count of the elements while the iteration operation.\n",
        "    \n",
        "    for i, line in enumerate(lines_master):\n",
        "       if not line in lines_compare:\n",
        "          different_lines.append(i + 1) #Manage the indexing of 0 by adding 1\n",
        "\n",
        "    return(different_lines)"
      ],
      "execution_count": null,
      "outputs": []
    },
    {
      "cell_type": "code",
      "metadata": {
        "deletable": false,
        "editable": false,
        "nbgrader": {
          "cell_type": "code",
          "checksum": "4fcce6d6f50f7b221c8168a3397bed8f",
          "grade": true,
          "grade_id": "cell-4fdac4989a8a30c2",
          "locked": true,
          "points": 20,
          "schema_version": 3,
          "solution": false,
          "task": false
        },
        "id": "MBiL0-LDOqmY"
      },
      "source": [
        "assert(diff('./exercise-files/text_a.txt', './exercise-files/text_b.txt') == [3, 4, 6])\n",
        "assert(diff('./exercise-files/text_a.txt', './exercise-files/text_a.txt') == [])"
      ],
      "execution_count": null,
      "outputs": []
    },
    {
      "cell_type": "markdown",
      "metadata": {
        "deletable": false,
        "editable": false,
        "nbgrader": {
          "cell_type": "markdown",
          "checksum": "39e55e48d98fa634bbc39df66d547175",
          "grade": false,
          "grade_id": "cell-c825fb088528196c",
          "locked": true,
          "schema_version": 3,
          "solution": false,
          "task": false
        },
        "id": "Mp-QK_g6OqmZ"
      },
      "source": [
        "### Question 5\n",
        "In this unit, we use a Jupyter extension called nbgrader to write these assignments. This adds extra metadata into each cell of the notebook to enable us to easily run tests on your code. Each cell that nbgrader knows about is given a cell ID to uniquely distinguish it – this helps identify which cell is which if, for example, you add additional cells into the notebook.\n",
        "\n",
        "Each Jupyter notebook is stored in a format called [JSON](https://en.wikipedia.org/wiki/JSON). This is a structured way of writing data which is easily machine-readable, and somewhat human-readable too. \n",
        "\n",
        "While I do not recommend editing the JSON encoded version of any of your assignments (if you break the tests you may get zero marks), you can read and decode the files using the Python [`json`](https://docs.python.org/3/library/json.html) module.\n",
        "\n",
        "In the cell below, write a function which takes a filename as a string. If the file is a Jupyter notebook that has nbgrader metadata in the first cell, then return the ID of that cell. Otherwise, return an empty string."
      ]
    },
    {
      "cell_type": "code",
      "metadata": {
        "deletable": false,
        "nbgrader": {
          "cell_type": "code",
          "checksum": "cc6db1d747d018fe197786693aed0a74",
          "grade": false,
          "grade_id": "cell-717b02ca63f2e9c0",
          "locked": false,
          "schema_version": 3,
          "solution": true,
          "task": false
        },
        "id": "yzHDz0sWOqmZ"
      },
      "source": [
        "import json\n",
        "\n",
        "def get_first_cell_id(filename):\n",
        "    \n",
        "    #Is the file a jupyter notebook? \n",
        "    if not filename.endswith('.ipynb'):\n",
        "        #If not a jupyter notebook, return empty string, as required by test case  \n",
        "        return (\"\")\n",
        "    else:\n",
        "        #If so, open the JSON \n",
        "        with open(filename) as file:\n",
        "            notebookData = json.load(file)\n",
        "        \n",
        "        #Raw data\n",
        "        #print(notebookData)\n",
        "        \n",
        "        #Check the 1st cell metadata for nbgrader; 0 indexedfor 1st \n",
        "        nbgraderFlag = True if \"nbgrader\" in notebookData['cells'][0]['metadata'] else False\n",
        "\n",
        "        #If nbgrader is there, get the grade_id value, which should be cell-06eb0ab990e028e8 \n",
        "        #(after visual inspection in Notepad++, and test case inspection)\n",
        "        if nbgraderFlag == True:\n",
        "            #Set the grade_id value to target \n",
        "            target = notebookData['cells'][0]['metadata']['nbgrader']['grade_id']\n",
        "            #return target, as required by test case              \n",
        "            return (target)\n",
        "        else:\n",
        "            #JSON yet no nbgrader present \n",
        "            return (\"\")"
      ],
      "execution_count": null,
      "outputs": []
    },
    {
      "cell_type": "code",
      "metadata": {
        "deletable": false,
        "editable": false,
        "nbgrader": {
          "cell_type": "code",
          "checksum": "47539fa632027b3e08bfea59885866dd",
          "grade": true,
          "grade_id": "cell-25e4fda9a2fc80f4",
          "locked": true,
          "points": 20,
          "schema_version": 3,
          "solution": false,
          "task": false
        },
        "scrolled": true,
        "id": "2LCcO_f6Oqma"
      },
      "source": [
        "assert(get_first_cell_id(\"exercise-sheet-3.ipynb\") == 'cell-06eb0ab990e028e8')\n",
        "assert(get_first_cell_id(\"./exercise-files/text_a.txt\") == '')"
      ],
      "execution_count": null,
      "outputs": []
    },
    {
      "cell_type": "code",
      "metadata": {
        "id": "F8w6laK5Oqmb"
      },
      "source": [
        ""
      ],
      "execution_count": null,
      "outputs": []
    }
  ]
}