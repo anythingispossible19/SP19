{
  "nbformat": 4,
  "nbformat_minor": 0,
  "metadata": {
    "colab": {
      "name": "Untitled50.ipynb",
      "provenance": [],
      "authorship_tag": "ABX9TyOFoqbJkpbnaq6jY2STac60",
      "include_colab_link": true
    },
    "kernelspec": {
      "name": "python3",
      "display_name": "Python 3"
    }
  },
  "cells": [
    {
      "cell_type": "markdown",
      "metadata": {
        "id": "view-in-github",
        "colab_type": "text"
      },
      "source": [
        "<a href=\"https://colab.research.google.com/github/anythingispossible19/SP19/blob/master/For_question_exercise_sheet4_Bubble_merge.ipynb\" target=\"_parent\"><img src=\"https://colab.research.google.com/assets/colab-badge.svg\" alt=\"Open In Colab\"/></a>"
      ]
    },
    {
      "cell_type": "code",
      "metadata": {
        "id": "844eAXwwLuMh",
        "outputId": "07fe4a6c-e7d4-4f36-ce1b-a90f09aa46fa",
        "colab": {
          "base_uri": "https://localhost:8080/",
          "height": 34
        }
      },
      "source": [
        "def bubbleSort(nlist):\n",
        "    for passnum in range(len(nlist)-1,0,-1):\n",
        "        for i in range(passnum):\n",
        "            if nlist[i]>nlist[i+1]:\n",
        "                temp = nlist[i]\n",
        "                nlist[i] = nlist[i+1]\n",
        "                nlist[i+1] = temp\n",
        "\n",
        "nlist = [14,46,43,27,57,41,45,21,70]\n",
        "bubbleSort(nlist)\n",
        "print(nlist)\n"
      ],
      "execution_count": 1,
      "outputs": [
        {
          "output_type": "stream",
          "text": [
            "[14, 21, 27, 41, 43, 45, 46, 57, 70]\n"
          ],
          "name": "stdout"
        }
      ]
    },
    {
      "cell_type": "code",
      "metadata": {
        "id": "pBOn00NoLv-8"
      },
      "source": [
        "procedure bubbleSort(A : list of sortable items)\n",
        "    n := length(A)\n",
        "    repeat\n",
        "        newn := 0\n",
        "        for i := 1 to n - 1 inclusive do\n",
        "            if A[i - 1] > A[i] then\n",
        "                swap(A[i - 1], A[i])\n",
        "                newn := i\n",
        "            end if\n",
        "        end for\n",
        "        n := newn\n",
        "    until n ≤ 1\n",
        "end procedure"
      ],
      "execution_count": null,
      "outputs": []
    },
    {
      "cell_type": "code",
      "metadata": {
        "id": "mmHVDX0hMqvS"
      },
      "source": [
        "def bubbleSort(arr): \n",
        "    n = len(arr) \n",
        "  \n",
        "    # Traverse through all array elements \n",
        "    for i in range(n-1): \n",
        "    # range(n) also work but outer loop will repeat one time more than needed. \n",
        "  \n",
        "        # Last i elements are already in place \n",
        "        for j in range(0, n-i-1): \n",
        "  \n",
        "            # traverse the array from 0 to n-i-1 \n",
        "            # Swap if the element found is greater \n",
        "            # than the next element \n",
        "            if arr[j] > arr[j+1] : \n",
        "                arr[j], arr[j+1] = arr[j+1], arr[j]"
      ],
      "execution_count": null,
      "outputs": []
    }
  ]
}